{
 "cells": [
  {
   "cell_type": "markdown",
   "metadata": {
    "colab_type": "text",
    "id": "view-in-github"
   },
   "source": [
    "<a href=\"https://colab.research.google.com/github/andreacangiani/NSPDE-ANA2024/blob/main/Python/CP8.ipynb\" target=\"_parent\"><img src=\"https://colab.research.google.com/assets/colab-badge.svg\" alt=\"Open In Colab\"/></a>"
   ]
  },
  {
   "cell_type": "markdown",
   "metadata": {
    "id": "_xNKsr0STBRP"
   },
   "source": [
    "# FEniCS Tutorial 2: solving diffusion problems in 2D"
   ]
  },
  {
   "cell_type": "markdown",
   "metadata": {
    "id": "fBMAMfrnTT63"
   },
   "source": [
    "We start by loading the FEniCSx modules, exaclty as in the previous tutorial."
   ]
  },
  {
   "cell_type": "code",
   "execution_count": 1,
   "metadata": {
    "id": "WMF6CUwWS29z"
   },
   "outputs": [],
   "source": [
    "try:\n",
    "    import dolfinx\n",
    "except ImportError:\n",
    "    !wget \"https://github.com/fem-on-colab/fem-on-colab.github.io/raw/a3d664e/releases/fenicsx-install-real.sh\" -O \"/tmp/fenicsx-install.sh\" && bash \"/tmp/fenicsx-install.sh\"\n",
    "    import dolfinx"
   ]
  },
  {
   "cell_type": "code",
   "execution_count": 2,
   "metadata": {
    "id": "Jy79QPMRTdK9"
   },
   "outputs": [],
   "source": [
    "try:\n",
    "    import viskex\n",
    "except ImportError:\n",
    "    !pip3 install \"viskex@git+https://github.com/viskex/viskex.git@f26b326\"\n",
    "    import viskex"
   ]
  },
  {
   "cell_type": "code",
   "execution_count": 3,
   "metadata": {
    "id": "uPArpuUgTglM"
   },
   "outputs": [],
   "source": [
    "import dolfinx.fem\n",
    "import dolfinx.fem.petsc\n",
    "import dolfinx.mesh\n",
    "import mpi4py.MPI\n",
    "import numpy as np\n",
    "import petsc4py.PETSc\n",
    "import ufl\n",
    "import viskex"
   ]
  },
  {
   "cell_type": "markdown",
   "metadata": {
    "id": "5n3yU3bgTqSh"
   },
   "source": [
    "We consider the model boundary value problem: find $u: \\Omega = (0, 1)^2 \\to \\mathbb{R}$ such that\n",
    "\\begin{equation*}\n",
    "\\begin{cases}\n",
    "- \\Delta u = f, & \\text{in } \\Omega,\\\\\n",
    "u = g, & \\text{on } \\partial\\Omega.\n",
    "\\end{cases}\n",
    "\\end{equation*}\n",
    "\n",
    "with $f\\equiv 1$ and the boundary value $g(\\mathbf{x})$ given by\n",
    "$$\n",
    "g(\\mathbf{x}) = g(x_0, x_1) = \\sin(3 \\pi x_0 + 1) \\ \\sin(3 \\pi x_1 + 1).\n",
    "$$"
   ]
  },
  {
   "cell_type": "markdown",
   "metadata": {
    "id": "JuPOCXx-T8wV"
   },
   "source": [
    "\n",
    "**Task 1: create a mesh.** As first example, we generate a triangular mesh of the domain $\\Omega$, dividing both the horizontal and vertical sides of the square in nxm equispaced subintervals.\n",
    "\n",
    "Similarly to 1D case, `dolfinx.mesh` provides the function `create_unit_square` for this task."
   ]
  },
  {
   "cell_type": "code",
   "execution_count": 4,
   "metadata": {
    "id": "pF1Tpx8IUjTz"
   },
   "outputs": [],
   "source": [
    "n = 10\n",
    "m = 15\n",
    "mesh = dolfinx.mesh.create_unit_square(mpi4py.MPI.COMM_WORLD, n, m)"
   ]
  },
  {
   "cell_type": "markdown",
   "metadata": {
    "id": "ef4UIz_thrih"
   },
   "source": [
    "Let's see how many cells are in the mesh.\n",
    "\n",
    "We store in:\n",
    "* tdim: the problem dimension (2)\n",
    "* fdim: the mesh scheleton entities dimension (1)\n",
    "* num_cells: the number of triangles in the mesh\n",
    "\n",
    "We can extract the num_cells information as we did in the 1D case from the connectivity or directly..."
   ]
  },
  {
   "cell_type": "code",
   "execution_count": 5,
   "metadata": {
    "id": "sAmv5f7kbFvS"
   },
   "outputs": [
    {
     "data": {
      "text/plain": [
       "300"
      ]
     },
     "execution_count": 5,
     "metadata": {},
     "output_type": "execute_result"
    }
   ],
   "source": [
    "tdim = mesh.topology.dim\n",
    "fdim = tdim - 1\n",
    "\n",
    "connectivity_cells_to_vertices = mesh.topology.connectivity(mesh.topology.dim,0)\n",
    "connectivity_cells_to_vertices\n",
    "num_cells = len(connectivity_cells_to_vertices)\n",
    "num_cells\n",
    "\n",
    "num_cells = mesh.topology.index_map(tdim).size_local\n",
    "num_cells"
   ]
  },
  {
   "cell_type": "markdown",
   "metadata": {
    "id": "sQzzflCSVMah"
   },
   "source": [
    "We can obtain an interactive plot of the domain using `pyvista`. (Click on the menu: next to the dropdown that contains \"Geometry 0\" you may find three different representations: the domain itself, the edges of the mesh, and both overlayed.)"
   ]
  },
  {
   "cell_type": "code",
   "execution_count": 6,
   "metadata": {
    "id": "I1osUxojVrPJ"
   },
   "outputs": [
    {
     "data": {
      "application/vnd.jupyter.widget-view+json": {
       "model_id": "2600149b03294166b8e082f96265a33a",
       "version_major": 2,
       "version_minor": 0
      },
      "text/plain": [
       "Widget(value='<iframe src=\"http://localhost:55633/index.html?ui=P_0x14e3d8050_0&reconnect=auto\" class=\"pyvista…"
      ]
     },
     "metadata": {},
     "output_type": "display_data"
    }
   ],
   "source": [
    "viskex.dolfinx.plot_mesh(mesh)"
   ]
  },
  {
   "cell_type": "markdown",
   "metadata": {
    "id": "asiKDasAWY6n"
   },
   "source": [
    "**Task 2:** Determine IDs of boundary edges in view of the application of the Dirichlet boundary condition.\n",
    "\n",
    "As in 1D case, this is obtained via the `dolfinx.mesh` `locate_entities_boundary` function. We want all edges on the boundary, but the function always requires a third input to permit the selection of parts of the boundary. As a workaround to this, we pass as third argument the function which always returns `True`."
   ]
  },
  {
   "cell_type": "code",
   "execution_count": 7,
   "metadata": {
    "id": "SVXfQiIeWwGc"
   },
   "outputs": [
    {
     "data": {
      "text/plain": [
       "array([  0,   3,   4,   6,  12,  14,  23,  25,  37,  39,  54,  56,  74,\n",
       "        76,  97,  99, 123, 125, 152, 154, 183, 185, 187, 216, 218, 247,\n",
       "       249, 278, 280, 309, 311, 339, 341, 366, 368, 390, 392, 411, 413,\n",
       "       429, 431, 444, 446, 456, 458, 465, 467, 471, 473, 474], dtype=int32)"
      ]
     },
     "execution_count": 7,
     "metadata": {},
     "output_type": "execute_result"
    }
   ],
   "source": [
    "boundary_entities = dolfinx.mesh.locate_entities_boundary(\n",
    "    mesh, fdim, lambda x: np.full((x.shape[1], ), True))\n",
    "boundary_entities"
   ]
  },
  {
   "cell_type": "markdown",
   "metadata": {
    "id": "Z4MIxH8AYV7D"
   },
   "source": [
    "We can store the boundary entites in a `dolfinx.mesh` `MeshTags` object, and plot it using `viskex` to check this was done correctly."
   ]
  },
  {
   "cell_type": "code",
   "execution_count": 8,
   "metadata": {
    "id": "SRVpHc01YdNU"
   },
   "outputs": [
    {
     "data": {
      "application/vnd.jupyter.widget-view+json": {
       "model_id": "b0656c3a41054a83a4cae68c6fcbdbbc",
       "version_major": 2,
       "version_minor": 0
      },
      "text/plain": [
       "Widget(value='<iframe src=\"http://localhost:55633/index.html?ui=P_0x14e4b7b10_1&reconnect=auto\" class=\"pyvista…"
      ]
     },
     "metadata": {},
     "output_type": "display_data"
    }
   ],
   "source": [
    "boundaries = dolfinx.mesh.meshtags(\n",
    "    mesh, fdim, boundary_entities, np.ones_like(boundary_entities))\n",
    "\n",
    "viskex.dolfinx.plot_mesh_tags(mesh, boundaries, \"boundaries\")"
   ]
  },
  {
   "cell_type": "markdown",
   "metadata": {
    "id": "NOMQFzZJmVTd"
   },
   "source": [
    "**Task 3: create FEM space.**\n",
    "\n",
    "Define the finite element function space $V_h$ using $\\mathbb{P}_1$ Lagrange elements.\n",
    "\n",
    "This part of the code is indistinguishable from the 1D version..."
   ]
  },
  {
   "cell_type": "code",
   "execution_count": 9,
   "metadata": {
    "id": "D1QNin0imfl4"
   },
   "outputs": [],
   "source": [
    "Vh = dolfinx.fem.functionspace(mesh, (\"Lagrange\", 1))"
   ]
  },
  {
   "cell_type": "markdown",
   "metadata": {
    "id": "0vWpPzr5mmI3"
   },
   "source": [
    "... and compute its dimension"
   ]
  },
  {
   "cell_type": "code",
   "execution_count": 10,
   "metadata": {
    "id": "iKYaXya1mozq"
   },
   "outputs": [
    {
     "data": {
      "text/plain": [
       "176"
      ]
     },
     "execution_count": 10,
     "metadata": {},
     "output_type": "execute_result"
    }
   ],
   "source": [
    "Vh_dim = Vh.dofmap.index_map.size_local\n",
    "Vh_dim"
   ]
  },
  {
   "cell_type": "markdown",
   "metadata": {
    "id": "gfq7b2dRmzIF"
   },
   "source": [
    "Once the FE space is at hand, we introduce ufl symbols to define the trial and test functions for our weak formulation:"
   ]
  },
  {
   "cell_type": "code",
   "execution_count": 11,
   "metadata": {
    "id": "srnG2gYjnAfD"
   },
   "outputs": [],
   "source": [
    "uh = ufl.TrialFunction(Vh)\n",
    "vh = ufl.TestFunction(Vh)"
   ]
  },
  {
   "cell_type": "markdown",
   "metadata": {
    "id": "6O-LPzYQnK5L"
   },
   "source": [
    "**Task 4:** set up FEM system\n",
    "\n",
    "We produce the weak formulation of the problem: find $u_h\\in V_h$ such that\n",
    "$$ \\int_\\Omega \\nabla u \\cdot \\nabla v \\ \\mathrm{d} \\mathbf{x} = \\int_\\Omega f \\ v \\ \\mathrm{d} \\mathbf{x},\\qquad\\forall v_h\\in V_h$$\n",
    "using `ufl`."
   ]
  },
  {
   "cell_type": "code",
   "execution_count": 12,
   "metadata": {
    "id": "34_EvwwYnilD"
   },
   "outputs": [],
   "source": [
    "dx = ufl.dx\n",
    "inner = ufl.inner\n",
    "grad = ufl.grad\n",
    "A = inner(grad(uh), grad(vh)) * dx"
   ]
  },
  {
   "cell_type": "code",
   "execution_count": 13,
   "metadata": {
    "id": "JLZ2N4eeooHb"
   },
   "outputs": [],
   "source": [
    "F = vh * dx"
   ]
  },
  {
   "cell_type": "markdown",
   "metadata": {
    "id": "20lvPHWOFAb-"
   },
   "source": [
    "**Task 5:** set up the boundary conditions\n",
    "\n",
    "In order to assign the boundary condition we first need to evaluate the expression of $g$ (i.e. $\\sin(3 \\pi x_0 + 1) \\ \\sin(3 \\pi x_1 + 1)$ in our case) on the finite element space $V_h$. We do this by interpolation, so we define the discrete boundary condition as\n",
    "$$g_h=I_h g$$\n",
    "\n",
    "with $I_h$ the interpolation operator."
   ]
  },
  {
   "cell_type": "code",
   "execution_count": 14,
   "metadata": {
    "id": "zCKAWD0ME_6m"
   },
   "outputs": [],
   "source": [
    "gh = dolfinx.fem.Function(Vh)\n",
    "gh.interpolate(lambda x: np.sin(3 * np.pi * x[0] + 1) * np.sin(3 * np.pi * x[1] + 1))"
   ]
  },
  {
   "cell_type": "markdown",
   "metadata": {
    "id": "ivZhXNbxHEZo"
   },
   "source": [
    "We then initialize a `dolfinx.fem` `dirichletbc` object, stating that the Dirichlet boundary condition should be equal to `gh` on each facet in `boundary_entities`."
   ]
  },
  {
   "cell_type": "code",
   "execution_count": 15,
   "metadata": {
    "id": "BeL2pvXvHKLl"
   },
   "outputs": [],
   "source": [
    "boundary_dofs = dolfinx.fem.locate_dofs_topological(Vh, fdim, boundary_entities)\n",
    "bc = dolfinx.fem.dirichletbc(gh, boundary_dofs)"
   ]
  },
  {
   "cell_type": "markdown",
   "metadata": {
    "id": "4yPtHI-hHfuA"
   },
   "source": [
    "**Task 6:** solve the FEM system.\n",
    "\n",
    "As in 1D case, we have to first provide a `Function` class to store the solution of a finite element problem and then we are ready to solve the discrete problem allocating a new `LinearProblem` (which uses `PETSc`), providing as input the bilinear form `a`, the linear functional `F`, the boundary conditions `bcs`, and where to store the solution. Further solver options can also be passed to `PETSc`."
   ]
  },
  {
   "cell_type": "code",
   "execution_count": 16,
   "metadata": {
    "id": "pOevHkspHm81"
   },
   "outputs": [],
   "source": [
    "solution = dolfinx.fem.Function(Vh)"
   ]
  },
  {
   "cell_type": "code",
   "execution_count": 17,
   "metadata": {
    "id": "TTmev_CpICDD"
   },
   "outputs": [],
   "source": [
    "problem = dolfinx.fem.petsc.LinearProblem(\n",
    "    A, F, bcs=[bc], u=solution,\n",
    "    petsc_options={\"ksp_type\": \"preonly\", \"pc_type\": \"lu\", \"pc_factor_mat_solver_type\": \"mumps\"})\n",
    "_ = problem.solve()"
   ]
  },
  {
   "cell_type": "markdown",
   "metadata": {
    "id": "zpCAqJaFIHgJ"
   },
   "source": [
    "**Task7:** plot the solution"
   ]
  },
  {
   "cell_type": "code",
   "execution_count": 18,
   "metadata": {
    "id": "1WiMjCEgIL_6"
   },
   "outputs": [
    {
     "data": {
      "application/vnd.jupyter.widget-view+json": {
       "model_id": "1f3f35d424bd4633ad91fec60857c64b",
       "version_major": 2,
       "version_minor": 0
      },
      "text/plain": [
       "Widget(value='<iframe src=\"http://localhost:55633/index.html?ui=P_0x14e905d10_2&reconnect=auto\" class=\"pyvista…"
      ]
     },
     "metadata": {},
     "output_type": "display_data"
    }
   ],
   "source": [
    "viskex.dolfinx.plot_scalar_field(solution, \"u_h\")"
   ]
  },
  {
   "cell_type": "markdown",
   "metadata": {
    "id": "o8TKxXjpJAHj"
   },
   "source": [
    "And here is a3D plot:"
   ]
  },
  {
   "cell_type": "code",
   "execution_count": 19,
   "metadata": {
    "id": "68FcGJtpJCTR"
   },
   "outputs": [
    {
     "data": {
      "application/vnd.jupyter.widget-view+json": {
       "model_id": "e1bef724d48d452bba6c79825ff8f061",
       "version_major": 2,
       "version_minor": 0
      },
      "text/plain": [
       "Widget(value='<iframe src=\"http://localhost:55633/index.html?ui=P_0x14e907390_3&reconnect=auto\" class=\"pyvista…"
      ]
     },
     "metadata": {},
     "output_type": "display_data"
    }
   ],
   "source": [
    "viskex.dolfinx.plot_scalar_field(solution, \"u_h\", warp_factor=0.1)"
   ]
  },
  {
   "cell_type": "markdown",
   "metadata": {
    "id": "2IOUJkT9XM-6"
   },
   "source": [
    "# Computing errors"
   ]
  },
  {
   "cell_type": "markdown",
   "metadata": {
    "id": "QDBFhz38XTlg"
   },
   "source": [
    "To test convergence, let us consider a problem where we fix the exact solution. Find $u: \\Omega \\to \\mathbb{R}$ such that\n",
    "\\begin{equation*}\n",
    "\\begin{cases}\n",
    "- \\Delta u = f, & \\text{in } \\Omega,\\\\\n",
    "u = g, & \\text{on } \\partial\\Omega,\n",
    "\\end{cases}\n",
    "\\end{equation*}\n",
    "where\n",
    "$$\\Omega = (0, 1)^2$$\n",
    "and $f$ and $g$ are chosen such that the exact solution to the strong formulation is\n",
    "$$u_{\\text{ex}}(x, y) = \\sin(2 \\pi x) \\ \\cos(2 \\pi y).$$\n",
    "\n",
    "Thus,\n",
    "$$f := - \\Delta u_{\\text{ex}} = - \\partial_{xx} u_{\\text{ex}} - \\partial_{yy} u_{\\text{ex}} = 8 \\pi^2 \\ \\sin(2 \\pi x) \\ \\cos(2 \\pi y).$$\n",
    "> Furthermore, by splitting the boundary $\\partial\\Omega$ in the four sides of the square $\\Omega$, we have\n",
    "\\begin{equation*}\n",
    "\\begin{cases}\n",
    "g_1(y) = g(0, y) := u_{\\text{ex}}(0, y) = 0, & \\text{on } \\Gamma_1 = \\left\\{0\\right\\} \\times [0, 1],\\\\\n",
    "g_2(x) = g(x, 0) := u_{\\text{ex}}(x, 0) = \\sin(2 \\pi x), & \\text{on } \\Gamma_2 = [0, 1] \\times \\left\\{0\\right\\},\\\\\n",
    "g_3(y) = g(1, y) := u_{\\text{ex}}(1, y) = 0, & \\text{on } \\Gamma_3 = \\left\\{1\\right\\} \\times [0, 1],\\\\\n",
    "g_4(y) = g(x, 1) := u_{\\text{ex}}(x, 1) = \\sin(2 \\pi x), & \\text{on } \\Gamma_4 = [0, 1] \\times \\left\\{1\\right\\},\\\\\n",
    "\\end{cases}\n",
    "\\end{equation*}"
   ]
  },
  {
   "cell_type": "markdown",
   "metadata": {
    "id": "M52lSSOmXzuw"
   },
   "source": [
    "We want to generate a structured triangular mesh of the domain Ω, dividing both the horizontal and vertical sides of the square in n equispaced subintervals. The function should also locate boundaries Γ1,Γ2,Γ3 and Γ4.\n",
    "\n",
    "We write the function unit_square_structured_mesh(n) using the builtin dolfinx.mesh.create_unit_square structured mesh generator and the boundary marking through four calls to dolfinx.mesh.locate_entities_boundary."
   ]
  },
  {
   "cell_type": "markdown",
   "metadata": {
    "id": "BNH5UaXmZnBm"
   },
   "source": [
    "First we require a few more imports."
   ]
  },
  {
   "cell_type": "code",
   "execution_count": 20,
   "metadata": {
    "id": "VX37nR3yXydC"
   },
   "outputs": [],
   "source": [
    "def unit_square_structured_mesh(n: int) -> tuple[dolfinx.mesh.Mesh, dict[int, np.ndarray]]:\n",
    "    \"\"\"Generate a structured mesh of the unit square, and locate its four boundaries.\"\"\"\n",
    "    # Generate structured mesh\n",
    "    mesh = dolfinx.mesh.create_unit_square(mpi4py.MPI.COMM_WORLD, n, n)\n",
    "\n",
    "    # Locate boundary entities\n",
    "    boundary_entities = {\n",
    "        1: dolfinx.mesh.locate_entities_boundary(mesh, mesh.topology.dim - 1, lambda x: np.isclose(x[0], 0.0)),\n",
    "        2: dolfinx.mesh.locate_entities_boundary(mesh, mesh.topology.dim - 1, lambda x: np.isclose(x[1], 0.0)),\n",
    "        3: dolfinx.mesh.locate_entities_boundary(mesh, mesh.topology.dim - 1, lambda x: np.isclose(x[0], 1.0)),\n",
    "        4: dolfinx.mesh.locate_entities_boundary(mesh, mesh.topology.dim - 1, lambda x: np.isclose(x[1], 1.0))\n",
    "    }\n",
    "\n",
    "    # Collect boundary entities in a MeshTags object\n",
    "    boundary_entities_unsorted = np.hstack(\n",
    "        [boundary_entities[i] for i in range(1, 5)]\n",
    "    ).astype(np.int32)\n",
    "    boundary_values_unsorted = np.hstack(\n",
    "        [i * np.ones_like(boundary_entities[i]) for i in range(1, 5)]\n",
    "    ).astype(np.int32)\n",
    "    boundary_entities_argsort = np.argsort(boundary_entities_unsorted)\n",
    "    boundary_entities_sorted = boundary_entities_unsorted[boundary_entities_argsort]\n",
    "    boundary_values_sorted = boundary_values_unsorted[boundary_entities_argsort]\n",
    "    boundaries = dolfinx.mesh.meshtags(\n",
    "        mesh, mesh.topology.dim - 1, boundary_entities_sorted, boundary_values_sorted)\n",
    "\n",
    "    # Return\n",
    "    return mesh, boundaries"
   ]
  },
  {
   "cell_type": "markdown",
   "metadata": {
    "id": "Fsa3DhSrKYI5"
   },
   "source": [
    "We test the implementation on the case $n = 10$, visualizing the resulting mesh and boundary labels."
   ]
  },
  {
   "cell_type": "code",
   "execution_count": 21,
   "metadata": {
    "id": "vnCpAZWPKXmV"
   },
   "outputs": [
    {
     "data": {
      "application/vnd.jupyter.widget-view+json": {
       "model_id": "e00b084938f74800a5c2bf336806c5c8",
       "version_major": 2,
       "version_minor": 0
      },
      "text/plain": [
       "Widget(value='<iframe src=\"http://localhost:55633/index.html?ui=P_0x14e907d90_4&reconnect=auto\" class=\"pyvista…"
      ]
     },
     "metadata": {},
     "output_type": "display_data"
    }
   ],
   "source": [
    "mesh_10, boundaries_10 = unit_square_structured_mesh(10)\n",
    "\n",
    "viskex.dolfinx.plot_mesh(mesh_10)"
   ]
  },
  {
   "cell_type": "markdown",
   "metadata": {
    "id": "OsAczWVoZX2g"
   },
   "source": [
    "Next we write the function `unit_square_poisson_solve(mesh, boundaries, order)` combining the usual steps that we carry out when solving a finite element problem with FEniCS: (i) definition of a finite element space, (ii) definition of the weak form, (iii) definition of the boundary conditions, (iv) linear system assembly, and (v) linear system solve.\n",
    "\n",
    "For the solving fase, we access the library KSP of linear system solvers from PETSc"
   ]
  },
  {
   "cell_type": "code",
   "execution_count": 22,
   "metadata": {
    "id": "Fn35gtdmZSwA"
   },
   "outputs": [],
   "source": [
    "def unit_square_poisson_solve(\n",
    "    mesh: dolfinx.mesh.Mesh, boundaries: dict[int, np.ndarray], order: int\n",
    ") -> tuple[dolfinx.fem.FunctionSpace, petsc4py.PETSc.Mat, dolfinx.fem.Function]:\n",
    "    \"\"\"Solve a Poisson problem on the unit square.\"\"\"\n",
    "    # Function space\n",
    "    Vh = dolfinx.fem.functionspace(mesh, (\"Lagrange\", order))\n",
    "\n",
    "    # Weak form\n",
    "    uh = ufl.TrialFunction(Vh)\n",
    "    vh = ufl.TestFunction(Vh)\n",
    "    x = ufl.SpatialCoordinate(mesh)\n",
    "    f = 8 * ufl.pi**2 * ufl.sin(2 * ufl.pi * x[0]) * ufl.cos(2 * ufl.pi * x[1])\n",
    "    dx = ufl.dx\n",
    "    inner = ufl.inner\n",
    "    grad = ufl.grad\n",
    "    a = inner(grad(uh), grad(vh)) * dx\n",
    "    F = f * vh * dx\n",
    "\n",
    "    # Boundary conditions\n",
    "    boundary_value = dolfinx.fem.Function(Vh)\n",
    "    boundary_value.interpolate(lambda x: np.sin(2 * np.pi * x[0]))\n",
    "    zero = dolfinx.fem.Constant(mesh, 0.0)\n",
    "    boundary_dofs = {\n",
    "        i: dolfinx.fem.locate_dofs_topological(\n",
    "            Vh, mesh.topology.dim - 1, boundaries.indices[boundaries.values == i]) for i in range(1, 5)}\n",
    "\n",
    "    bcs = [\n",
    "        dolfinx.fem.dirichletbc(zero, boundary_dofs[1], Vh),\n",
    "        dolfinx.fem.dirichletbc(boundary_value, boundary_dofs[2]),\n",
    "        dolfinx.fem.dirichletbc(zero, boundary_dofs[3], Vh),\n",
    "        dolfinx.fem.dirichletbc(boundary_value, boundary_dofs[4])]\n",
    "\n",
    "    # Assemble system\n",
    "    a_cpp = dolfinx.fem.form(a)\n",
    "    F_cpp = dolfinx.fem.form(F)\n",
    "    A = dolfinx.fem.petsc.assemble_matrix(a_cpp, bcs)\n",
    "    A.assemble()\n",
    "    b = dolfinx.fem.petsc.assemble_vector(F_cpp)\n",
    "    dolfinx.fem.petsc.apply_lifting(b, [a_cpp], [bcs])\n",
    "    dolfinx.fem.petsc.set_bc(b, bcs)\n",
    "\n",
    "    # Solve\n",
    "    solution = dolfinx.fem.Function(Vh)\n",
    "    ksp = petsc4py.PETSc.KSP()\n",
    "    ksp.create(mesh.comm)\n",
    "    ksp.setOperators(A)\n",
    "    ksp.setType(\"preonly\")\n",
    "    ksp.getPC().setType(\"lu\")\n",
    "    ksp.getPC().setFactorSolverType(\"mumps\")\n",
    "    ksp.setFromOptions()\n",
    "    ksp.solve(b, solution.vector)\n",
    "\n",
    "    # Return\n",
    "    return Vh, A, solution"
   ]
  },
  {
   "cell_type": "markdown",
   "metadata": {
    "id": "ErNq4I5Taf20"
   },
   "source": [
    "Let's test it"
   ]
  },
  {
   "cell_type": "code",
   "execution_count": 23,
   "metadata": {
    "id": "aIhSK9UJH3Ch"
   },
   "outputs": [],
   "source": [
    "_, A_10, solution_10 = unit_square_poisson_solve(mesh_10, boundaries_10, 1)"
   ]
  },
  {
   "cell_type": "markdown",
   "metadata": {
    "id": "LD2lLvZba3Vl"
   },
   "source": [
    "Finally, the main task: computing errors.\n",
    "\n",
    "To this end, we write a function `unit_square_solution_error(mesh, solution, space)` that computes the norm of the error between a finite element solution and the exact solution to the Poisson problem on the domain $\\Omega$. The first input argument `mesh` contains the mesh of $\\Omega$, the second input argument `solution` contains the finite element solution, while the norm definition is derived from the third input argument `space` (if `space == 0`, the $L^2(\\Omega) = H^0(\\Omega)$ norm is used, while if `space == 1` the $H^1(\\Omega)$ norm is used).\n",
    "\n",
    "The function implments the following steps: (i) definition of the exact solution, (ii) computation of the difference between the finite element solution and the exact solution, (iii) representation of the square of norm of the error in `ufl`, (iv) evaluation of the square of norm of the error by assembling the `ufl` representation, and (v) application of a square root (do not forget this!) to get the error from its square.\n",
    "\n",
    "> Indented block\n",
    "\n"
   ]
  },
  {
   "cell_type": "code",
   "execution_count": 24,
   "metadata": {
    "id": "68J1imsNbKzu"
   },
   "outputs": [],
   "source": [
    "def unit_square_solution_error(\n",
    "    mesh: dolfinx.mesh.Mesh, solution: dolfinx.fem.Function, space: int\n",
    ") -> float:\n",
    "    \"\"\"Compute the error between the FE solution and the exact solution.\"\"\"\n",
    "    # Definition of the exact solution\n",
    "    x = ufl.SpatialCoordinate(mesh)\n",
    "    u_ex = ufl.sin(2 * ufl.pi * x[0]) * ufl.cos(2 * ufl.pi * x[1])\n",
    "\n",
    "    # Computation of the difference between the finite element solution and the exact solution\n",
    "    diff = solution - u_ex\n",
    "\n",
    "    # UFL representation of the square of the norm of the error depending on the input argument space\n",
    "    dx = ufl.dx\n",
    "    if space == 0:\n",
    "        eh_squared_ufl = diff * diff * dx\n",
    "    elif space == 1:\n",
    "        inner = ufl.inner\n",
    "        grad = ufl.grad\n",
    "        eh_squared_ufl = diff * diff * dx + inner(grad(diff), grad(diff)) * dx\n",
    "    else:\n",
    "        raise RuntimeError(\"Invalid space.\")\n",
    "\n",
    "    # Evaluation of the square of the norm of the error by assembling the UFL representation\n",
    "    eh_squared = dolfinx.fem.assemble_scalar(dolfinx.fem.form(eh_squared_ufl))\n",
    "\n",
    "    # Compute the square root and return\n",
    "    return np.sqrt(eh_squared)"
   ]
  },
  {
   "cell_type": "markdown",
   "metadata": {
    "id": "2ciS6RiVbPQ9"
   },
   "source": [
    "We test the implementation on the solution we have obtained from the mesh with $n = 10$ and $\\mathbb{P}^1$ finite elements."
   ]
  },
  {
   "cell_type": "markdown",
   "metadata": {
    "id": "qYxR45T7bbUU"
   },
   "source": [
    "Here is the L2 error"
   ]
  },
  {
   "cell_type": "code",
   "execution_count": 25,
   "metadata": {
    "id": "5AE-D9_NbQGe"
   },
   "outputs": [
    {
     "data": {
      "text/plain": [
       "np.float64(0.5365584593350075)"
      ]
     },
     "execution_count": 25,
     "metadata": {},
     "output_type": "execute_result"
    }
   ],
   "source": [
    "unit_square_solution_error(mesh, solution, 0)"
   ]
  },
  {
   "cell_type": "markdown",
   "metadata": {
    "id": "kvCjdU04beBE"
   },
   "source": [
    "And the H1 error"
   ]
  },
  {
   "cell_type": "code",
   "execution_count": 26,
   "metadata": {
    "id": "fJcjqpB1bZwW"
   },
   "outputs": [
    {
     "data": {
      "text/plain": [
       "np.float64(5.814754386304821)"
      ]
     },
     "execution_count": 26,
     "metadata": {},
     "output_type": "execute_result"
    }
   ],
   "source": [
    "unit_square_solution_error(mesh, solution, 1)"
   ]
  },
  {
   "cell_type": "markdown",
   "metadata": {
    "id": "4cN1KSvIdP80"
   },
   "source": [
    "**Exercise 1:** Check the rate of convergence by running a series of experiments. (See, eg.  CP5)"
   ]
  },
  {
   "cell_type": "code",
   "execution_count": 27,
   "metadata": {},
   "outputs": [],
   "source": [
    "no_exp=7\n",
    "\n",
    "H1_err=np.zeros(no_exp)\n",
    "L2_err=np.zeros(no_exp)\n",
    "NN=np.zeros(no_exp)\n",
    "\n",
    "for i in range(no_exp):\n",
    "    N = 2**(i+2)\n",
    "    NN[i] = N\n",
    "    #mesh+boundary\n",
    "    mesh,boundary = unit_square_structured_mesh(N)\n",
    "\n",
    "    _,_,solution = unit_square_poisson_solve(mesh,boundary, 1)\n",
    "    H1_err[i] = unit_square_solution_error(mesh,solution, 1)\n",
    "    L2_err[i] = unit_square_solution_error(mesh,solution, 0)"
   ]
  },
  {
   "cell_type": "code",
   "execution_count": 28,
   "metadata": {},
   "outputs": [
    {
     "data": {
      "image/png": "[encoded data removed]",
      "text/plain": [
       "<Figure size 640x480 with 1 Axes>"
      ]
     },
     "metadata": {},
     "output_type": "display_data"
    }
   ],
   "source": [
    "import matplotlib.pyplot as plt\n",
    "plt.loglog(NN,H1_err, label='H1 err')\n",
    "plt.loglog(NN,NN**(-1), label='h^-1')\n",
    "plt.loglog(NN,L2_err, label='L2 err')\n",
    "plt.loglog(NN,NN**(-2), label='h^-2')\n",
    "plt.legend()\n",
    "plt.show()"
   ]
  },
  {
   "cell_type": "markdown",
   "metadata": {
    "id": "_k_oWWpCLBM_"
   },
   "source": [
    "# Working with subdomains"
   ]
  },
  {
   "cell_type": "markdown",
   "metadata": {
    "id": "pdIpkRmtMffA"
   },
   "source": [
    "We now solve the same problem but with the forcing function given by:\n",
    "\n",
    "$$\n",
    "f(\\mathbf{x}) = \\begin{cases}\n",
    "50, & \\mathbf{x} \\in [0.2, 0.8]^2,\\\\\n",
    "1, & \\text{otherwise},\n",
    "\\end{cases}\n",
    "$$\n"
   ]
  },
  {
   "cell_type": "markdown",
   "metadata": {
    "id": "HNWURYx1NsdW"
   },
   "source": [
    "We shall code this using by defining two subdomains:\n",
    "$$\\Omega_2 = [0.2, 0.8]^2 \\quad \\text{and} \\quad \\Omega_1 = \\Omega \\setminus \\Omega_0$$\n",
    "\n",
    " In order to do so, we need to ensure that the mesh is alligned with the subdomains. For instance, we can take $n=m=10$:"
   ]
  },
  {
   "cell_type": "code",
   "execution_count": 29,
   "metadata": {
    "id": "9UA5SYccOXy-"
   },
   "outputs": [
    {
     "data": {
      "text/plain": [
       "200"
      ]
     },
     "execution_count": 29,
     "metadata": {},
     "output_type": "execute_result"
    }
   ],
   "source": [
    "n = 10\n",
    "m = 10\n",
    "mesh = dolfinx.mesh.create_unit_square(mpi4py.MPI.COMM_WORLD, n, m)\n",
    "\n",
    "num_cells = mesh.topology.index_map(tdim).size_local\n",
    "num_cells"
   ]
  },
  {
   "cell_type": "code",
   "execution_count": 30,
   "metadata": {
    "id": "aJKirouJOiZq"
   },
   "outputs": [
    {
     "data": {
      "application/vnd.jupyter.widget-view+json": {
       "model_id": "31ed19d66e0145c0b8d5ab250ab7ca58",
       "version_major": 2,
       "version_minor": 0
      },
      "text/plain": [
       "Widget(value='<iframe src=\"http://localhost:55633/index.html?ui=P_0x14f8b4410_5&reconnect=auto\" class=\"pyvista…"
      ]
     },
     "metadata": {},
     "output_type": "display_data"
    }
   ],
   "source": [
    "viskex.dolfinx.plot_mesh(mesh)"
   ]
  },
  {
   "cell_type": "code",
   "execution_count": 31,
   "metadata": {
    "id": "Nc_S0bJNOwg-"
   },
   "outputs": [
    {
     "data": {
      "text/plain": [
       "array([  0,   3,   4,   6,  12,  14,  23,  25,  37,  39,  54,  56,  74,\n",
       "        76,  97,  99, 123, 125, 152, 154, 183, 184, 186, 211, 213, 235,\n",
       "       237, 256, 258, 274, 276, 289, 291, 301, 303, 310, 312, 316, 318,\n",
       "       319], dtype=int32)"
      ]
     },
     "execution_count": 31,
     "metadata": {},
     "output_type": "execute_result"
    }
   ],
   "source": [
    "boundary_entities = dolfinx.mesh.locate_entities_boundary(\n",
    "    mesh, fdim, lambda x: np.full((x.shape[1], ), True))\n",
    "boundary_entities"
   ]
  },
  {
   "cell_type": "markdown",
   "metadata": {
    "id": "i1_BNXZwYxlE"
   },
   "source": [
    "**New Task:** Define the two subdomains $\\Omega_1$ and $\\Omega_2$ in view of the implementation of the forcing function $f$.\n",
    "\n",
    "*   mark $\\Omega_1$ and $\\Omega_2$ with labels `1` and `2`\n",
    "*   use the `dolfinx.mesh` function `locate_entities` to determine whether a cell is in $\\Omega_2$. This function checks each of the three vertices of the triangular cell, and locates all cells in which the provided condition is satisfied on all three vertices."
   ]
  },
  {
   "cell_type": "code",
   "execution_count": 32,
   "metadata": {
    "id": "lYVPmDpJaxet"
   },
   "outputs": [
    {
     "data": {
      "text/plain": [
       "array([ 22,  27,  32,  33,  38,  39,  44,  45,  46,  51,  52,  53,  58,\n",
       "        59,  60,  61,  66,  67,  68,  69,  74,  75,  76,  77,  78,  83,\n",
       "        84,  85,  86,  87,  92,  93,  94,  95,  96,  97, 102, 103, 104,\n",
       "       105, 106, 107, 112, 113, 114, 115, 116, 121, 122, 123, 124, 125,\n",
       "       130, 131, 132, 133, 138, 139, 140, 141, 146, 147, 148, 153, 154,\n",
       "       155, 160, 161, 166, 167, 172, 177], dtype=int32)"
      ]
     },
     "execution_count": 32,
     "metadata": {},
     "output_type": "execute_result"
    }
   ],
   "source": [
    "inner_subdomain_entities = dolfinx.mesh.locate_entities(\n",
    "    mesh, mesh.topology.dim, lambda x: np.logical_and(\n",
    "        np.logical_and(x[0] >= 0.2, x[0] <= 0.8),\n",
    "        np.logical_and(x[1] >= 0.2, x[1] <= 0.8)))\n",
    "inner_subdomain_entities"
   ]
  },
  {
   "cell_type": "markdown",
   "metadata": {
    "id": "TSV13ZuEiZf8"
   },
   "source": [
    "We label each cell in $\\Omega_2$ with the label `2` by using the `np.full` function which return a new array with shape of input filled with value."
   ]
  },
  {
   "cell_type": "code",
   "execution_count": 33,
   "metadata": {
    "id": "p0TrhbrEe-qh"
   },
   "outputs": [
    {
     "data": {
      "text/plain": [
       "array([2, 2, 2, 2, 2, 2, 2, 2, 2, 2, 2, 2, 2, 2, 2, 2, 2, 2, 2, 2, 2, 2,\n",
       "       2, 2, 2, 2, 2, 2, 2, 2, 2, 2, 2, 2, 2, 2, 2, 2, 2, 2, 2, 2, 2, 2,\n",
       "       2, 2, 2, 2, 2, 2, 2, 2, 2, 2, 2, 2, 2, 2, 2, 2, 2, 2, 2, 2, 2, 2,\n",
       "       2, 2, 2, 2, 2, 2], dtype=int32)"
      ]
     },
     "execution_count": 33,
     "metadata": {},
     "output_type": "execute_result"
    }
   ],
   "source": [
    "inner_subdomains_labels = np.full(inner_subdomain_entities.shape, 2, dtype=np.intc)\n",
    "inner_subdomains_labels"
   ]
  },
  {
   "cell_type": "markdown",
   "metadata": {
    "id": "VG7DBQ5wfYbj"
   },
   "source": [
    "The remaining cells will belong to $\\Omega_1$. Recall that in num_cells we have stored the total number of cells\n"
   ]
  },
  {
   "cell_type": "code",
   "execution_count": 34,
   "metadata": {
    "id": "6yYZG9FqfcbD"
   },
   "outputs": [
    {
     "data": {
      "text/plain": [
       "array([  0,   1,   2,   3,   4,   5,   6,   7,   8,   9,  10,  11,  12,\n",
       "        13,  14,  15,  16,  17,  18,  19,  20,  21,  23,  24,  25,  26,\n",
       "        28,  29,  30,  31,  34,  35,  36,  37,  40,  41,  42,  43,  47,\n",
       "        48,  49,  50,  54,  55,  56,  57,  62,  63,  64,  65,  70,  71,\n",
       "        72,  73,  79,  80,  81,  82,  88,  89,  90,  91,  98,  99, 100,\n",
       "       101, 108, 109, 110, 111, 117, 118, 119, 120, 126, 127, 128, 129,\n",
       "       134, 135, 136, 137, 142, 143, 144, 145, 149, 150, 151, 152, 156,\n",
       "       157, 158, 159, 162, 163, 164, 165, 168, 169, 170, 171, 173, 174,\n",
       "       175, 176, 178, 179, 180, 181, 182, 183, 184, 185, 186, 187, 188,\n",
       "       189, 190, 191, 192, 193, 194, 195, 196, 197, 198, 199])"
      ]
     },
     "execution_count": 34,
     "metadata": {},
     "output_type": "execute_result"
    }
   ],
   "source": [
    "outer_subdomain_entities = np.setdiff1d(np.arange(num_cells), inner_subdomain_entities)\n",
    "outer_subdomain_entities"
   ]
  },
  {
   "cell_type": "code",
   "execution_count": 35,
   "metadata": {
    "id": "Nc4fxsJLfzcJ"
   },
   "outputs": [
    {
     "data": {
      "text/plain": [
       "array([1, 1, 1, 1, 1, 1, 1, 1, 1, 1, 1, 1, 1, 1, 1, 1, 1, 1, 1, 1, 1, 1,\n",
       "       1, 1, 1, 1, 1, 1, 1, 1, 1, 1, 1, 1, 1, 1, 1, 1, 1, 1, 1, 1, 1, 1,\n",
       "       1, 1, 1, 1, 1, 1, 1, 1, 1, 1, 1, 1, 1, 1, 1, 1, 1, 1, 1, 1, 1, 1,\n",
       "       1, 1, 1, 1, 1, 1, 1, 1, 1, 1, 1, 1, 1, 1, 1, 1, 1, 1, 1, 1, 1, 1,\n",
       "       1, 1, 1, 1, 1, 1, 1, 1, 1, 1, 1, 1, 1, 1, 1, 1, 1, 1, 1, 1, 1, 1,\n",
       "       1, 1, 1, 1, 1, 1, 1, 1, 1, 1, 1, 1, 1, 1, 1, 1, 1, 1], dtype=int32)"
      ]
     },
     "execution_count": 35,
     "metadata": {},
     "output_type": "execute_result"
    }
   ],
   "source": [
    "outer_subdomains_labels = np.full(outer_subdomain_entities.shape, 1, dtype=np.intc)\n",
    "outer_subdomains_labels"
   ]
  },
  {
   "cell_type": "markdown",
   "metadata": {
    "id": "jM9Li2apbfzF"
   },
   "source": [
    "We then store both subdomains in a `dolfinx.mesh` `MeshTags` object."
   ]
  },
  {
   "cell_type": "code",
   "execution_count": 36,
   "metadata": {
    "id": "X5RpQDDNbgh2"
   },
   "outputs": [],
   "source": [
    "subdomains_entities_unsorted = np.hstack((outer_subdomain_entities, inner_subdomain_entities)).astype(np.int32)\n",
    "subdomains_values_unsorted = np.hstack((outer_subdomains_labels, inner_subdomains_labels)).astype(np.int32)\n",
    "subdomains_entities_argsort = np.argsort(subdomains_entities_unsorted)\n",
    "subdomains_entities_sorted = subdomains_entities_unsorted[subdomains_entities_argsort]\n",
    "subdomains_values_sorted = subdomains_values_unsorted[subdomains_entities_argsort]\n",
    "subdomains = dolfinx.mesh.meshtags(\n",
    "    mesh, mesh.topology.dim, subdomains_entities_sorted, subdomains_values_sorted)"
   ]
  },
  {
   "cell_type": "markdown",
   "metadata": {
    "id": "ecBWYU0Gbqc-"
   },
   "source": [
    "We finally plot with `pyvista` the subdomains to verify the correct assignment of the label."
   ]
  },
  {
   "cell_type": "code",
   "execution_count": 37,
   "metadata": {
    "id": "pxuoZpcMbqBz"
   },
   "outputs": [
    {
     "data": {
      "application/vnd.jupyter.widget-view+json": {
       "model_id": "70120a4fca9d4c07a44632f467a4bac9",
       "version_major": 2,
       "version_minor": 0
      },
      "text/plain": [
       "Widget(value='<iframe src=\"http://localhost:55633/index.html?ui=P_0x14f8b5090_6&reconnect=auto\" class=\"pyvista…"
      ]
     },
     "metadata": {},
     "output_type": "display_data"
    }
   ],
   "source": [
    "viskex.dolfinx.plot_mesh_tags(mesh, subdomains, \"subdomains\")"
   ]
  },
  {
   "cell_type": "markdown",
   "metadata": {
    "id": "HWx3IFLIQxLI"
   },
   "source": [
    "Defining the FEM space is as before:"
   ]
  },
  {
   "cell_type": "code",
   "execution_count": 38,
   "metadata": {
    "id": "XjYuCIjDQ0z7"
   },
   "outputs": [
    {
     "data": {
      "text/plain": [
       "121"
      ]
     },
     "execution_count": 38,
     "metadata": {},
     "output_type": "execute_result"
    }
   ],
   "source": [
    "Vh = dolfinx.fem.functionspace(mesh, (\"Lagrange\", 1))\n",
    "\n",
    "Vh_dim = Vh.dofmap.index_map.size_local\n",
    "Vh_dim"
   ]
  },
  {
   "cell_type": "code",
   "execution_count": 39,
   "metadata": {
    "id": "LpwbJzkIQ6vQ"
   },
   "outputs": [],
   "source": [
    "uh = ufl.TrialFunction(Vh)\n",
    "vh = ufl.TestFunction(Vh)"
   ]
  },
  {
   "cell_type": "markdown",
   "metadata": {
    "id": "WHTEGxESn7Uq"
   },
   "source": [
    "In order to write this problem in `ufl`, we need to inform the integral measure `dx` of the subdomain labels, using `ufl.Measure` and providing as data the `subdomains` object that we have created."
   ]
  },
  {
   "cell_type": "code",
   "execution_count": 40,
   "metadata": {
    "id": "l8IKuU_WIY57"
   },
   "outputs": [],
   "source": [
    "dx = ufl.Measure(\"dx\")(subdomain_data=subdomains)"
   ]
  },
  {
   "cell_type": "markdown",
   "metadata": {
    "id": "CjWnyJz1n9AH"
   },
   "source": [
    "The bilinear form is straighforward:"
   ]
  },
  {
   "cell_type": "code",
   "execution_count": 41,
   "metadata": {
    "id": "ZhVaFywEKxPb"
   },
   "outputs": [],
   "source": [
    "inner = ufl.inner\n",
    "grad = ufl.grad\n",
    "A = inner(grad(uh), grad(vh)) * dx"
   ]
  },
  {
   "cell_type": "markdown",
   "metadata": {
    "id": "3TnngdU-VhXn"
   },
   "source": [
    "> We further define the linear functional\n",
    "> $$ F(v) = \\int_\\Omega f \\ v \\ \\mathrm{d}\\mathbf{x} = \\int_{\\Omega_1} v \\ \\mathrm{d}\\mathbf{x} + \\int_{\\Omega_2} 10 \\ v \\ \\mathrm{d}\\mathbf{x}.$$\n",
    "> In order to implement this in `ufl`, we use `dx(1)` to define integration over $\\Omega_1$, and similarly `dx(2)` to define integration over $\\Omega_2$."
   ]
  },
  {
   "cell_type": "code",
   "execution_count": 42,
   "metadata": {
    "id": "CzSrFjmXLT2z"
   },
   "outputs": [],
   "source": [
    "F = vh * dx(1) + 50 * vh * dx(0)"
   ]
  },
  {
   "cell_type": "markdown",
   "metadata": {
    "id": "hjtN_RU9LY9p"
   },
   "source": [
    "The rest is as before:"
   ]
  },
  {
   "cell_type": "code",
   "execution_count": 43,
   "metadata": {
    "id": "hpOGN-NCLbDV"
   },
   "outputs": [],
   "source": [
    "gh = dolfinx.fem.Function(Vh)\n",
    "gh.interpolate(lambda x: np.sin(3 * np.pi * x[0] + 1) * np.sin(3 * np.pi * x[1] + 1))\n",
    "\n",
    "boundary_dofs = dolfinx.fem.locate_dofs_topological(Vh, fdim, boundary_entities)\n",
    "bc = dolfinx.fem.dirichletbc(gh, boundary_dofs)\n",
    "\n",
    "solution = dolfinx.fem.Function(Vh)\n",
    "\n",
    "problem = dolfinx.fem.petsc.LinearProblem(\n",
    "    A, F, bcs=[bc], u=solution,\n",
    "    petsc_options={\"ksp_type\": \"preonly\", \"pc_type\": \"lu\", \"pc_factor_mat_solver_type\": \"mumps\"})\n",
    "_ = problem.solve()"
   ]
  },
  {
   "cell_type": "code",
   "execution_count": 44,
   "metadata": {
    "id": "b9VKGEB4L7xg"
   },
   "outputs": [
    {
     "data": {
      "application/vnd.jupyter.widget-view+json": {
       "model_id": "79226f27e8ba4e7cb2abf8c22b6a9a6b",
       "version_major": 2,
       "version_minor": 0
      },
      "text/plain": [
       "Widget(value='<iframe src=\"http://localhost:55633/index.html?ui=P_0x14e905a90_7&reconnect=auto\" class=\"pyvista…"
      ]
     },
     "metadata": {},
     "output_type": "display_data"
    }
   ],
   "source": [
    "viskex.dolfinx.plot_scalar_field(solution, \"u_h\")"
   ]
  },
  {
   "cell_type": "markdown",
   "metadata": {
    "id": "MiVeXHdlRjtE"
   },
   "source": [
    "**Exercise 2:** Use the subdomain idea to solve the problem: find $u: \\Omega = (0, 1)^2 \\to \\mathbb{R}$ such that\n",
    "\\begin{equation*}\n",
    "\\begin{cases}\n",
    "- \\nabla (\\kappa \\nabla u) = f, & \\text{in } \\Omega,\\\\\n",
    "u = g, & \\text{on } \\partial\\Omega.\n",
    "\\end{cases}\n",
    "\\end{equation*}\n",
    "with $f$  and $g$ as before and\n",
    "$$\n",
    "\\kappa(\\mathbf{x}) = \\begin{cases}\n",
    "1, & \\mathbf{x} \\in [0.2, 0.8]^2,\\\\\n",
    "0.1, & \\text{otherwise},\n",
    "\\end{cases}\n",
    "$$\n"
   ]
  },
  {
   "cell_type": "code",
   "execution_count": 45,
   "metadata": {},
   "outputs": [],
   "source": [
    "#space and grid\n",
    "n = 10\n",
    "m = 10\n",
    "mesh = dolfinx.mesh.create_unit_square(mpi4py.MPI.COMM_WORLD, n, m)\n",
    "Vh=dolfinx.fem.functionspace(mesh,(\"Lagrange\",1))\n",
    "\n",
    "#innser subdomain\n",
    "tdim = mesh.topology.dim\n",
    "fdim = tdim - 1\n",
    "inner_subdomain_entities = dolfinx.mesh.locate_entities(\n",
    "    mesh, mesh.topology.dim, lambda x: np.logical_and(\n",
    "        np.logical_and(x[0] >= 0.2, x[0] <= 0.8),\n",
    "        np.logical_and(x[1] >= 0.2, x[1] <= 0.8)))\n",
    "\n",
    "inner_subdomains_labels = np.full(inner_subdomain_entities.shape, 2, dtype=np.intc)\n",
    "\n",
    "#outer\n",
    "outer_subdomain_entities = np.setdiff1d(np.arange(num_cells), inner_subdomain_entities)\n",
    "\n",
    "outer_subdomains_labels = np.full(outer_subdomain_entities.shape, 1, dtype=np.intc)\n",
    "\n",
    "subdomains_entities_unsorted = np.hstack((outer_subdomain_entities, inner_subdomain_entities)).astype(np.int32)\n",
    "subdomains_values_unsorted = np.hstack((outer_subdomains_labels, inner_subdomains_labels)).astype(np.int32)\n",
    "subdomains_entities_argsort = np.argsort(subdomains_entities_unsorted)\n",
    "subdomains_entities_sorted = subdomains_entities_unsorted[subdomains_entities_argsort]\n",
    "subdomains_values_sorted = subdomains_values_unsorted[subdomains_entities_argsort]\n",
    "subdomains = dolfinx.mesh.meshtags(\n",
    "    mesh, mesh.topology.dim, subdomains_entities_sorted, subdomains_values_sorted)\n",
    "\n",
    "#problem\n",
    "uh=ufl.TrialFunction(Vh)\n",
    "vh=ufl.TestFunction(Vh)\n",
    "dx= ufl.Measure(\"dx\", domain=mesh, subdomain_data=subdomains)\n",
    "\n",
    "#k of the problem\n",
    "k=dolfinx.fem.Function(Vh)\n",
    "k.interpolate(lambda x: np.where(\n",
    "    (0.2 <= x[0]) & (x[0] <= 0.8) & (0.2 <= x[1]) & (x[1] <= 0.8),\n",
    "    1.0,\n",
    "    0.1\n",
    "))\n",
    "\n",
    "A=ufl.inner(k * ufl.grad(uh), ufl.grad(vh)) * dx\n",
    "#as before\n",
    "F = vh * dx(1) + 50 * vh * dx(0)\n",
    "\n",
    "#boundary\n",
    "gh = dolfinx.fem.Function(Vh)\n",
    "gh.interpolate(lambda x: np.sin(3 * np.pi * x[0] + 1) * np.sin(3 * np.pi * x[1] + 1))\n",
    "boundary_entities=dolfinx.mesh.locate_entities_boundary(mesh, fdim, lambda x: np.full((x.shape[1],), True))\n",
    "boundary_dofs=dolfinx.fem.locate_dofs_topological(Vh, fdim, boundary_entities)\n",
    "bc = dolfinx.fem.dirichletbc(gh, boundary_dofs)\n",
    "\n",
    "solution = dolfinx.fem.Function(Vh)\n",
    "\n",
    "problem = dolfinx.fem.petsc.LinearProblem(\n",
    "    A, F, bcs=[bc], u=solution,\n",
    "    petsc_options={\"ksp_type\": \"preonly\", \"pc_type\": \"lu\", \"pc_factor_mat_solver_type\": \"mumps\"})\n",
    "_ = problem.solve()"
   ]
  },
  {
   "cell_type": "code",
   "execution_count": 46,
   "metadata": {},
   "outputs": [
    {
     "data": {
      "application/vnd.jupyter.widget-view+json": {
       "model_id": "ef737316b08d4c9db8499db60382e55d",
       "version_major": 2,
       "version_minor": 0
      },
      "text/plain": [
       "Widget(value='<iframe src=\"http://localhost:55633/index.html?ui=P_0x14eed2990_8&reconnect=auto\" class=\"pyvista…"
      ]
     },
     "metadata": {},
     "output_type": "display_data"
    }
   ],
   "source": [
    "viskex.dolfinx.plot_scalar_field(solution, \"u_h\")"
   ]
  },
  {
   "cell_type": "markdown",
   "metadata": {
    "id": "ZpKMz1KsSniE"
   },
   "source": [
    "**Exercise 3:** By yourself or using the official tutorial\n",
    "\n",
    "https://jorgensd.github.io/dolfinx-tutorial/index.html\n",
    "\n",
    "as reference, find out how to use the subdomain idea to define different boundary conditions. For instance, solve with:\n",
    "$$\n",
    "u = g \\quad\\text{if } \\quad x=0 \\quad \\text{or}\\quad  x=1,\n",
    "$$\n",
    "and\n",
    "$$\n",
    "-\\frac{\\partial u}{\\partial {\\mathbf n}} = h \\quad \\text{otherwise}.\n",
    "$$\n",
    "with\n",
    "$$\n",
    "h(x,y)=\n",
    "\\left\\{\n",
    "\\begin{array}{ll}\n",
    "0 & \\text{if } y=0\\\\\n",
    "-4 & \\text{if } y=1.\n",
    "\\end{array}\n",
    "\\right.\n",
    "$$\n",
    "\n"
   ]
  },
  {
   "cell_type": "code",
   "execution_count": 47,
   "metadata": {},
   "outputs": [],
   "source": [
    "n = 10\n",
    "m = 10\n",
    "mesh = dolfinx.mesh.create_unit_square(mpi4py.MPI.COMM_WORLD, n, m)\n",
    "Vh = dolfinx.fem.functionspace(mesh, (\"Lagrange\", 1))\n",
    "\n",
    "#define problem\n",
    "uh=ufl.TrialFunction(Vh)\n",
    "vh=ufl.TestFunction(Vh)\n",
    "grad=ufl.grad\n",
    "inner=ufl.inner\n",
    "dx= ufl.dx\n",
    "A=inner(grad(uh), grad(vh)) * dx\n",
    "\n",
    "#Dirichlet\n",
    "def dirichlet(x):\n",
    "    return np.logical_or(np.isclose(x[0], 0), np.isclose(x[0], 1))\n",
    "\n",
    "dof_boundary=dolfinx.fem.locate_dofs_geometrical(Vh, dirichlet)\n",
    "g=dolfinx.fem.Function(Vh)\n",
    "g.interpolate(lambda x: 1 + x[0]**2 + 2 * x[1]**2)\n",
    "bc=dolfinx.fem.dirichletbc(g, dof_boundary)\n",
    "\n",
    "#Neumann\n",
    "x=ufl.SpatialCoordinate(mesh)\n",
    "h=-4 * x[1]\n",
    "f=dolfinx.fem.Constant(mesh, -6.0)\n",
    "L= f * vh * dx - h * vh * ufl.ds\n",
    "\n",
    "#solve\n",
    "solution = dolfinx.fem.Function(Vh)\n",
    "problem = dolfinx.fem.petsc.LinearProblem(\n",
    "    A, L, bcs=[bc], u=solution,\n",
    "    petsc_options={\"ksp_type\": \"preonly\", \"pc_type\": \"lu\", \"pc_factor_mat_solver_type\": \"mumps\"})\n",
    "_ = problem.solve()"
   ]
  },
  {
   "cell_type": "code",
   "execution_count": 48,
   "metadata": {},
   "outputs": [
    {
     "data": {
      "application/vnd.jupyter.widget-view+json": {
       "model_id": "4a28d07fd59547259984ffad1eb60f1e",
       "version_major": 2,
       "version_minor": 0
      },
      "text/plain": [
       "Widget(value='<iframe src=\"http://localhost:55633/index.html?ui=P_0x14e905bd0_9&reconnect=auto\" class=\"pyvista…"
      ]
     },
     "metadata": {},
     "output_type": "display_data"
    }
   ],
   "source": [
    "viskex.dolfinx.plot_scalar_field(solution, \"u_h\")"
   ]
  },
  {
   "cell_type": "code",
   "execution_count": null,
   "metadata": {},
   "outputs": [],
   "source": []
  }
 ],
 "metadata": {
  "colab": {
   "authorship_tag": "ABX9TyMWXMNr5v3vo3T+AEcKJV+v",
   "include_colab_link": true,
   "provenance": []
  },
  "kernelspec": {
   "display_name": "Python 3 (ipykernel)",
   "language": "python",
   "name": "python3"
  },
  "language_info": {
   "codemirror_mode": {
    "name": "ipython",
    "version": 3
   },
   "file_extension": ".py",
   "mimetype": "text/x-python",
   "name": "python",
   "nbconvert_exporter": "python",
   "pygments_lexer": "ipython3",
   "version": "3.13.1"
  }
 },
 "nbformat": 4,
 "nbformat_minor": 4
}
