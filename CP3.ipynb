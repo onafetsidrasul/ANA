{
  "cells": [
    {
      "cell_type": "markdown",
      "metadata": {
        "colab_type": "text",
        "id": "view-in-github"
      },
      "source": [
        "<a href=\"https://colab.research.google.com/github/andreacangiani/NSPDE-ANA2024/blob/main/Python/CP3.ipynb\" target=\"_parent\"><img src=\"https://colab.research.google.com/assets/colab-badge.svg\" alt=\"Open In Colab\"/></a>"
      ]
    },
    {
      "cell_type": "markdown",
      "metadata": {
        "id": "EYPTFFAQN3BY"
      },
      "source": [
        "# Finite Difference for 1D reaction-advection-diffusion problem"
      ]
    },
    {
      "cell_type": "markdown",
      "metadata": {
        "id": "VXF0WBPFNRtO"
      },
      "source": [
        "1. Finite Difference solver for the reaction-advection-diffusion problem with nonconstant coefficients:\n",
        "\n",
        "$-\\alpha(x) u''(x)+\\beta(x) u'(x)+\\gamma(x) u(x)=f(x) \\quad \\in (a,b)$\n",
        "\n",
        "$u(a)=0, \\quad u(b)=0$.\n",
        "\n",
        "Implement FD method including the boundary conditions in the system."
      ]
    },
    {
      "cell_type": "code",
      "execution_count": 1,
      "metadata": {
        "id": "cVTxIyM7NFyh"
      },
      "outputs": [],
      "source": [
        "import numpy as np\n",
        "import matplotlib.pyplot as plt\n",
        "import scipy.sparse as sp\n",
        "from scipy.sparse.linalg import spsolve"
      ]
    },
    {
      "cell_type": "markdown",
      "metadata": {
        "id": "SRJ5pqdRPUtH"
      },
      "source": [
        "Function computing the 1D FD algebric system"
      ]
    },
    {
      "cell_type": "code",
      "execution_count": 2,
      "metadata": {
        "id": "Csg0gbiITqSg"
      },
      "outputs": [],
      "source": [
        "def FD1D(omega,N,alpha,beta,gamma,rhs):\n",
        "  # FD system matrix and rhs for\n",
        "  # diffusion-advection-reaction problem with coeffs\n",
        "  # alpha,beta,gamma,rhs\n",
        "  # homogeneous Dirichlet bc\n",
        "  # uniform grid in sparse CSR format\n",
        "\n",
        "  # grid\n",
        "  #omega is domain\n",
        "  h= (omega[1]-omega[0])/N\n",
        "  x=np.linspace(omega[0],omega[1],N+1)\n",
        "\n",
        "  # compute coeffs and rhs values\n",
        "  diff=alpha(x)\n",
        "  conv=beta(x)\n",
        "  reac=gamma(x)\n",
        "  #right hand side\n",
        "  F=rhs(x)\n",
        "\n",
        "  # assemble system matrix\n",
        "  diff_term=[-diff[1:N+1], 2*diff, -diff[0:-1]]\n",
        "  conv_term=[-conv[1:N+1],conv[0:-1]]\n",
        "  \n",
        "  A= (1./h**2) * sp.diags(diff_term, [-1,0,1], format=\"csr\") + (1./(2*h)) * sp.diags(conv_term, [-1,1], format=\"csr\") + sp.diags(reac, 0, format=\"csr\")\n",
        "\n",
        "  # modify system to account for homogeneous Dirichlet boundary conditions\n",
        "  A[0,0]=1; A[N,N]=1\n",
        "  A[0,1]=0; A[N,N-1]=0\n",
        "  F[0] =0; F[N]=0\n",
        "\n",
        "\n",
        "  return A, F"
      ]
    },
    {
      "cell_type": "markdown",
      "metadata": {
        "id": "gRfVSvNTJg03"
      },
      "source": [
        "Solve the boundary value problem with:\n",
        "\n",
        "$a=0,\\, b=Π$\n",
        "\n",
        "$\\alpha(x)=1+\\sin(x),\\,  \\beta(x)=1,\\, \\gamma(x)=x,\\, f(x)=1$"
      ]
    },
    {
      "cell_type": "code",
      "execution_count": 3,
      "metadata": {
        "id": "ZOZf2ZiTJjO5"
      },
      "outputs": [
        {
          "data": {
            "text/plain": [
              "[<matplotlib.lines.Line2D at 0x110d25750>]"
            ]
          },
          "execution_count": 3,
          "metadata": {},
          "output_type": "execute_result"
        },
        {
          "data": {
            "image/png": "[encoded data removed]",
            "text/plain": [
              "<Figure size 640x480 with 1 Axes>"
            ]
          },
          "metadata": {},
          "output_type": "display_data"
        }
      ],
      "source": [
        "# Problem domain\n",
        "omega=[0,np.pi]\n",
        "\n",
        "# Problem data\n",
        "alpha=lambda x : 1+np.sin(x)\n",
        "beta=lambda x : np.ones(len(x))\n",
        "gamma=lambda x : x\n",
        "rhs = lambda x : np.ones(len(x))\n",
        "\n",
        "# Grid parameters\n",
        "N=50\n",
        "x=np.linspace(omega[0],omega[1],N+1)\n",
        "\n",
        "# Assemble FD system\n",
        "A, F =FD1D(omega,N,alpha,beta,gamma,rhs)\n",
        "\n",
        "# solve\n",
        "uh=sp.linalg.spsolve(A,F)\n",
        "\n",
        "# plot solution\n",
        "plt.plot(x,uh)"
      ]
    },
    {
      "cell_type": "markdown",
      "metadata": {
        "id": "ohPbdO6sTsaw"
      },
      "source": [
        "Compute experimental order of convergence (EOC) using knowledge that\n",
        "\n",
        "$|| U-U_h ||_\\infty \\approx C h^k$\n",
        "\n",
        "with $C$ independent of $h$. Hence,\n",
        "\n",
        "$\\frac{|| U-U_{h_1} ||_\\infty}{|| U-U_{h_2} ||_\\infty}\\approx\\large(\\frac{h_1}{h_2}\\large)^k$,\n",
        "\n",
        "and then,\n",
        "\n",
        "$k\\approx\\frac{\\log || U-U_{h_1} ||_\\infty-\\log|| U-U_{h_2} ||_\\infty}{\\log h_1 - \\log h_2}$.\n",
        "\n",
        "Notice that to estimate the EOC you need to run at least two experiments, for instance with $h_1=h$, $h_2=h/2$."
      ]
    },
    {
      "cell_type": "markdown",
      "metadata": {
        "id": "Cc7f28z4qrVf"
      },
      "source": [
        "For simplicity, let's take\n",
        "\n",
        "$\\alpha(x)=1,\\,  \\beta(x)=0,\\, \\gamma(x)=0$\n",
        "\n",
        "and\n",
        "\n",
        "$u=\\sin(x)$ so that $f=\\sin(x)$\n"
      ]
    },
    {
      "cell_type": "code",
      "execution_count": 15,
      "metadata": {
        "id": "34lm792MXmOu"
      },
      "outputs": [
        {
          "name": "stdout",
          "output_type": "stream",
          "text": [
            "0.008265416966228178\n",
            "0.0020587067645332358\n",
            "0.0005142004781475418\n",
            "0.00012852038354571604\n",
            "3.2128237817063976e-05\n",
            "8.03194329468404e-06\n",
            "2.0079784173177018e-06\n",
            "5.019945084061561e-07\n",
            "1.2550042538528317e-07\n",
            "3.1377531239940026e-08\n",
            "7.839531135367395e-09\n",
            "1.9413302076998207e-09\n",
            "5.0858350864047e-10\n",
            "5.480762510501336e-10\n",
            "8.979815779852629e-10\n",
            "1.8215976504976084e-09\n",
            "5.4958704143182047e-08\n",
            "2.0782209619873981e-07\n",
            "2.737376660899571e-07\n"
          ]
        }
      ],
      "source": [
        "# Problem domain\n",
        "omega =[0, np.pi]\n",
        "\n",
        "# Problem data\n",
        "alpha = lambda x : np.ones(len(x))\n",
        "beta = lambda x : 0. * np.ones(len(x))\n",
        "gamma = lambda x : 0. * np.ones(len(x))\n",
        "rhs = lambda x : np.sin(x)\n",
        "u = lambda x : np.sin(x)\n",
        "\n",
        "# Number of experiments\n",
        "no_exp = 20\n",
        "\n",
        "# initialise with first experiment\n",
        "# Grid parameters\n",
        "N=5\n",
        "x =np.linspace(omega[0],omega[1],N+1)\n",
        "\n",
        "# Assemble FD system\n",
        "A, F = FD1D(omega,N,alpha,beta,gamma,rhs)\n",
        "\n",
        "# solve\n",
        "uh=sp.linalg.spsolve(A,F)\n",
        "\n",
        "# compute error\n",
        "err1 = max(abs(u(x)-uh))\n",
        "h1 = (omega[1]-omega[0])/N\n",
        "\n",
        "\n",
        "# loop over remaining experiments\n",
        "for i in range(no_exp-1):\n",
        "  # fix the mesh\n",
        "  N = 2 * N\n",
        "  x =np.linspace(omega[0],omega[1],N+1)\n",
        "\n",
        "  # evaluate system for given N\n",
        "  A, F = FD1D(omega,N,alpha,beta,gamma,rhs)\n",
        "  # Solve\n",
        "  uh=sp.linalg.spsolve(A,F)\n",
        "  # Compute error\n",
        "  err2 = max(abs(u(x)-uh))\n",
        "  h2 = (omega[1]-omega[0])/N\n",
        "\n",
        "  print(err2)\n",
        "  #print((np.log(err1)-np.log(err2))/(np.log(h1)-np.log(h2)))\n",
        "\n",
        "  # Update\n",
        "  err1=err2\n",
        "  h1=h2\n",
        "\n"
      ]
    },
    {
      "cell_type": "markdown",
      "metadata": {
        "id": "1qj6q7X1Xmwm"
      },
      "source": [
        "What if the exact solution is not known? Then we can still estiate the EOC but three experiments. Indeed, letting $h_2=\\theta h_1$, we have\n",
        "\n",
        "$|| U_{h_2}-U_{h_1} ||_\\infty\\le || U-U_{h_1} ||_\\infty + || U-U_{h_2} ||_\\infty\\approx C h_1^k+C h_2^k \\approx C (1+\\theta^k) h_1^k$\n",
        "\n",
        "Now, given also $h_3 = \\theta h_2$, we have similarly\n",
        "\n",
        "$|| U_{h_3}-U_{h_2} ||_\\infty \\approx C (1+\\theta^k) h_2^k=C (1+\\theta^k)\\theta^k h_1^k$\n",
        "\n",
        "hence,\n",
        "\n",
        "$\\frac{|| U_{h_2}-U_{h_1} ||_\\infty}{|| U_{h_3}-U_{h_2} ||_\\infty}\\approx \\frac{C (1+\\theta^k) h_1^k}{C (1+\\theta^k)\\theta^k h_1^k}=\\theta^{-k}$\n",
        "\n",
        "from which $k$ can be estimated as before by passing to the logs.\n",
        "\n",
        "NOTE! The discrete solutions are defined at different sets of points so the above comparison is to be intended on the set of common points!"
      ]
    },
    {
      "cell_type": "markdown",
      "metadata": {
        "id": "N3UJHKF0XsQh"
      },
      "source": [
        "**Exercise 1:** try this out for the problem with\n",
        "\n",
        "$\\alpha(x)=1+\\sin(x),\\,  \\beta(x)=1,\\, \\gamma(x)=x, \\, f=1$.\n",
        "\n",
        "Check that you still get the expected rate of convergence."
      ]
    },
    {
      "cell_type": "code",
      "execution_count": 9,
      "metadata": {},
      "outputs": [
        {
          "name": "stdout",
          "output_type": "stream",
          "text": [
            "1.7974545275256697\n",
            "1.9369170613656916\n",
            "1.9804976478490832\n",
            "1.9953560378863262\n",
            "1.9987917124736752\n",
            "1.9997027265288636\n",
            "1.9999257467382037\n",
            "1.999979349153377\n",
            "2.000011013886439\n",
            "1.999991325312057\n",
            "2.000817974008673\n",
            "1.9600475522144833\n"
          ]
        }
      ],
      "source": [
        "# Problem domain\n",
        "omega =[0, np.pi]\n",
        "\n",
        "# Problem data\n",
        "alpha = lambda x : 1 + np.sin(x)\n",
        "beta = lambda x : np.ones(len(x))\n",
        "gamma = lambda x : x\n",
        "rhs = lambda x : np.ones(len(x))\n",
        "\n",
        "# Number of experiments\n",
        "no_exp = 12\n",
        "\n",
        "# Initial mesh\n",
        "N=5\n",
        "\n",
        "# Loop\n",
        "for i in range(no_exp):\n",
        "  N2 = 2 * N\n",
        "  N3 = 2 * N2\n",
        "  \n",
        "  A, F = FD1D(omega,N,alpha,beta,gamma,rhs)\n",
        "  A2, F2 = FD1D(omega,N2,alpha,beta,gamma,rhs)\n",
        "  A3, F3 = FD1D(omega,N3,alpha,beta,gamma,rhs)\n",
        "  \n",
        "  # Solve\n",
        "  uh=sp.linalg.spsolve(A,F)\n",
        "  uh2=sp.linalg.spsolve(A2,F2)\n",
        "  uh3=sp.linalg.spsolve(A3,F3)\n",
        "  \n",
        "  # Reshape to compare\n",
        "  uh2 = uh2[::2]\n",
        "  uh3 = uh3[::4]\n",
        "  \n",
        "  # errors\n",
        "  err2 = max(abs(uh2-uh))\n",
        "  err3 = max(abs(uh3-uh2))\n",
        "  \n",
        "  # convergence rates\n",
        "  h1 = (omega[1]-omega[0])/N\n",
        "  h2 = (omega[1]-omega[0])/N2\n",
        "  theta = h2/h1\n",
        "  p = -(np.log(err2/err3))/np.log(theta)\n",
        "  \n",
        "  print(p)\n",
        "  \n",
        "  # update\n",
        "  N = N2\n"
      ]
    },
    {
      "cell_type": "markdown",
      "metadata": {
        "id": "t2KVyLFnsOZd"
      },
      "source": [
        "**Exersie 2.** Modify the FD1D routine to solve problems with nonhomogeneous boundary conditions."
      ]
    },
    {
      "cell_type": "code",
      "execution_count": 10,
      "metadata": {},
      "outputs": [],
      "source": [
        "def FD1DNH(omega,N,alpha,beta,gamma,rhs,a,b):\n",
        "  # FD system matrix and rhs for\n",
        "  # diffusion-advection-reaction problem with coeffs\n",
        "  # alpha,beta,gamma,rhs\n",
        "  # NONhomogeneous Dirichlet bc a,b\n",
        "  # uniform grid in sparse CSR format\n",
        "\n",
        "  # grid\n",
        "  #omega is domain\n",
        "  h= (omega[1]-omega[0])/N\n",
        "  x=np.linspace(omega[0],omega[1],N+1)\n",
        "\n",
        "  # compute coeffs and rhs values\n",
        "  diff=alpha(x)\n",
        "  conv=beta(x)\n",
        "  reac=gamma(x)\n",
        "  #right hand side\n",
        "  F=rhs(x)\n",
        "\n",
        "  # assemble system matrix\n",
        "  diff_term=[-diff[1:N+1], 2*diff, -diff[0:-1]]\n",
        "  conv_term=[-conv[1:N+1],conv[0:-1]]\n",
        "  \n",
        "  A= (1./h**2) * sp.diags(diff_term, [-1,0,1], format=\"csr\") + (1./(2*h)) * sp.diags(conv_term, [-1,1], format=\"csr\") + sp.diags(reac, 0, format=\"csr\")\n",
        "\n",
        "  # modify system to account for nonhomogeneous Dirichlet boundary conditions\n",
        "  A[0,:]=0\n",
        "  A[-1,:]=0\n",
        "  A[0,0]=1; A[-1,-1]=1\n",
        "  F[0] =a; F[-1]=b\n",
        "\n",
        "  return A, F"
      ]
    },
    {
      "cell_type": "code",
      "execution_count": 11,
      "metadata": {},
      "outputs": [
        {
          "name": "stderr",
          "output_type": "stream",
          "text": [
            "/Library/Frameworks/Python.framework/Versions/3.11/lib/python3.11/site-packages/scipy/sparse/_index.py:143: SparseEfficiencyWarning: Changing the sparsity structure of a csr_matrix is expensive. lil_matrix is more efficient.\n",
            "  self._set_arrayXarray(i, j, x)\n"
          ]
        },
        {
          "data": {
            "text/plain": [
              "[<matplotlib.lines.Line2D at 0x11790d750>]"
            ]
          },
          "execution_count": 11,
          "metadata": {},
          "output_type": "execute_result"
        },
        {
          "data": {
            "image/png": "[encoded data removed]",
            "text/plain": [
              "<Figure size 640x480 with 1 Axes>"
            ]
          },
          "metadata": {},
          "output_type": "display_data"
        }
      ],
      "source": [
        "# Problem domain\n",
        "omega=[0,np.pi]\n",
        "\n",
        "# Problem data\n",
        "alpha=lambda x : 1+np.sin(x)\n",
        "beta=lambda x : np.ones(len(x))\n",
        "gamma=lambda x : x\n",
        "rhs = lambda x : np.ones(len(x))\n",
        "\n",
        "# Grid parameters\n",
        "N=50\n",
        "x=np.linspace(omega[0],omega[1],N+1)\n",
        "\n",
        "# Assemble FD system\n",
        "A, F =FD1DNH(omega,N,alpha,beta,gamma,rhs,0,3)\n",
        "\n",
        "# solve\n",
        "uh=sp.linalg.spsolve(A,F)\n",
        "\n",
        "# plot solution\n",
        "plt.plot(x,uh)"
      ]
    },
    {
      "cell_type": "markdown",
      "metadata": {
        "id": "xAo1OdaSr72T"
      },
      "source": [
        "**Exersie 3.** Consider now the problem defined by:\n",
        "\n",
        "$a=0$, $b=1$, $u(0)=1$, $u(1)=0$ $f=0$ and\n",
        "\n",
        "$\\alpha=\\beta=\\gamma=1$.\n",
        "\n",
        "Solve this problem using a grid made of $N=10$ intervals and plot the solution.\n",
        "\n",
        "Next, try with $\\alpha=0.01$, $\\beta=1$, $\\gamma=0$. What happens? Can you explain? Experiment by taking finer grids."
      ]
    },
    {
      "cell_type": "markdown",
      "metadata": {},
      "source": [
        "$-\\alpha(x) u''(x)+\\beta(x) u'(x)+\\gamma(x) u(x)=f(x) \\quad \\in (a,b)$"
      ]
    },
    {
      "cell_type": "code",
      "execution_count": 12,
      "metadata": {},
      "outputs": [
        {
          "data": {
            "text/plain": [
              "[<matplotlib.lines.Line2D at 0x10ffd5510>]"
            ]
          },
          "execution_count": 12,
          "metadata": {},
          "output_type": "execute_result"
        },
        {
          "data": {
            "image/png": "[encoded data removed]",
            "text/plain": [
              "<Figure size 640x480 with 1 Axes>"
            ]
          },
          "metadata": {},
          "output_type": "display_data"
        }
      ],
      "source": [
        "# Problem domain\n",
        "omega=[0,1]\n",
        "\n",
        "# Problem data\n",
        "alpha=lambda x : np.ones(len(x))\n",
        "beta=lambda x : np.ones(len(x))\n",
        "gamma=lambda x : np.ones(len(x))\n",
        "rhs = lambda x : np.zeros(len(x))\n",
        "\n",
        "# Grid parameters\n",
        "N=10\n",
        "x=np.linspace(omega[0],omega[1],N+1)\n",
        "\n",
        "# Assemble FD system\n",
        "A, F =FD1DNH(omega,N,alpha,beta,gamma,rhs,1,0)\n",
        "\n",
        "# solve\n",
        "uh=sp.linalg.spsolve(A,F)\n",
        "\n",
        "# plot solution\n",
        "plt.plot(x,uh)"
      ]
    },
    {
      "cell_type": "code",
      "execution_count": 13,
      "metadata": {},
      "outputs": [
        {
          "data": {
            "text/plain": [
              "[<matplotlib.lines.Line2D at 0x1179e5890>]"
            ]
          },
          "execution_count": 13,
          "metadata": {},
          "output_type": "execute_result"
        },
        {
          "data": {
            "image/png": "[encoded data removed]",
            "text/plain": [
              "<Figure size 640x480 with 1 Axes>"
            ]
          },
          "metadata": {},
          "output_type": "display_data"
        }
      ],
      "source": [
        "# Problem domain\n",
        "omega=[0,1]\n",
        "\n",
        "# Problem data\n",
        "alpha=lambda x : 0.01*np.ones(len(x))\n",
        "beta=lambda x : np.ones(len(x))\n",
        "gamma=lambda x : np.zeros(len(x))\n",
        "rhs = lambda x : np.zeros(len(x))\n",
        "\n",
        "# Grid parameters\n",
        "N=10\n",
        "x=np.linspace(omega[0],omega[1],N+1)\n",
        "\n",
        "# Assemble FD system\n",
        "A, F =FD1DNH(omega,N,alpha,beta,gamma,rhs,1,0)\n",
        "\n",
        "# solve\n",
        "uh=sp.linalg.spsolve(A,F)\n",
        "\n",
        "# plot solution\n",
        "plt.plot(x,uh)"
      ]
    },
    {
      "cell_type": "markdown",
      "metadata": {},
      "source": [
        "We're in the case of oscillating function due to $P_e>1$, increasing the number of grid points we can reach $P_e<1$"
      ]
    },
    {
      "cell_type": "code",
      "execution_count": 14,
      "metadata": {},
      "outputs": [
        {
          "data": {
            "text/plain": [
              "[<matplotlib.lines.Line2D at 0x11795a590>]"
            ]
          },
          "execution_count": 14,
          "metadata": {},
          "output_type": "execute_result"
        },
        {
          "data": {
            "image/png": "[encoded data removed]",
            "text/plain": [
              "<Figure size 640x480 with 1 Axes>"
            ]
          },
          "metadata": {},
          "output_type": "display_data"
        }
      ],
      "source": [
        "# Problem domain\n",
        "omega=[0,1]\n",
        "\n",
        "# Problem data\n",
        "alpha=lambda x : 0.01*np.ones(len(x))\n",
        "beta=lambda x : np.ones(len(x))\n",
        "gamma=lambda x : np.zeros(len(x))\n",
        "rhs = lambda x : np.zeros(len(x))\n",
        "\n",
        "# Grid parameters\n",
        "N=100\n",
        "x=np.linspace(omega[0],omega[1],N+1)\n",
        "\n",
        "# Assemble FD system\n",
        "A, F =FD1DNH(omega,N,alpha,beta,gamma,rhs,1,0)\n",
        "\n",
        "# solve\n",
        "uh=sp.linalg.spsolve(A,F)\n",
        "\n",
        "# plot solution\n",
        "plt.plot(x,uh)"
      ]
    }
  ],
  "metadata": {
    "colab": {
      "authorship_tag": "ABX9TyOQUDGmrgx1A7hZ7SMU1L0g",
      "include_colab_link": true,
      "name": "C3.ipynb",
      "provenance": []
    },
    "kernelspec": {
      "display_name": "Python 3",
      "name": "python3"
    },
    "language_info": {
      "codemirror_mode": {
        "name": "ipython",
        "version": 3
      },
      "file_extension": ".py",
      "mimetype": "text/x-python",
      "name": "python",
      "nbconvert_exporter": "python",
      "pygments_lexer": "ipython3",
      "version": "3.11.5"
    }
  },
  "nbformat": 4,
  "nbformat_minor": 0
}
