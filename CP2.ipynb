{
  "cells": [
    {
      "cell_type": "markdown",
      "metadata": {
        "colab_type": "text",
        "id": "view-in-github"
      },
      "source": [
        "<a href=\"https://colab.research.google.com/github/andreacangiani/NSPDE-ANA2024/blob/main/Python/CP2.ipynb\" target=\"_parent\"><img src=\"https://colab.research.google.com/assets/colab-badge.svg\" alt=\"Open In Colab\"/></a>"
      ]
    },
    {
      "cell_type": "markdown",
      "metadata": {
        "id": "WLd_JqUTLlx7"
      },
      "source": [
        "# Divided differences using sparse matrix"
      ]
    },
    {
      "cell_type": "markdown",
      "metadata": {
        "id": "lAvcakieLgH4"
      },
      "source": [
        "Import the usual modules"
      ]
    },
    {
      "cell_type": "code",
      "execution_count": 31,
      "metadata": {
        "id": "UhR8FV_9KpLl"
      },
      "outputs": [],
      "source": [
        "import numpy as np\n",
        "import matplotlib.pyplot as plt\n",
        "import sympy as sym"
      ]
    },
    {
      "cell_type": "markdown",
      "metadata": {
        "id": "TEsSBeGDMz-9"
      },
      "source": [
        "New module: sparse algebra"
      ]
    },
    {
      "cell_type": "code",
      "execution_count": 32,
      "metadata": {
        "id": "knW_Lj85M3g2"
      },
      "outputs": [],
      "source": [
        "import scipy.sparse as sp"
      ]
    },
    {
      "cell_type": "markdown",
      "metadata": {
        "id": "AOx_KN1HLSBn"
      },
      "source": [
        "Function implementing the forward difference in sparse format"
      ]
    },
    {
      "cell_type": "code",
      "execution_count": 33,
      "metadata": {
        "id": "bPMMOZh0LRd5"
      },
      "outputs": [],
      "source": [
        "#compressed sparse row CSR\n",
        "def fd(N):\n",
        "    #compute fd mtrix insparse form using compressed sparse row format \n",
        "    data=[-np.ones(N+1), np.ones(N)]\n",
        "    return sp.diags(data,[0,1], format=\"csr\")"
      ]
    },
    {
      "cell_type": "code",
      "execution_count": 34,
      "metadata": {},
      "outputs": [
        {
          "name": "stdout",
          "output_type": "stream",
          "text": [
            "Help on function diags in module scipy.sparse._construct:\n",
            "\n",
            "diags(diagonals, offsets=0, shape=None, format=None, dtype=None)\n",
            "    Construct a sparse matrix from diagonals.\n",
            "    \n",
            "    Parameters\n",
            "    ----------\n",
            "    diagonals : sequence of array_like\n",
            "        Sequence of arrays containing the matrix diagonals,\n",
            "        corresponding to `offsets`.\n",
            "    offsets : sequence of int or an int, optional\n",
            "        Diagonals to set:\n",
            "          - k = 0  the main diagonal (default)\n",
            "          - k > 0  the kth upper diagonal\n",
            "          - k < 0  the kth lower diagonal\n",
            "    shape : tuple of int, optional\n",
            "        Shape of the result. If omitted, a square matrix large enough\n",
            "        to contain the diagonals is returned.\n",
            "    format : {\"dia\", \"csr\", \"csc\", \"lil\", ...}, optional\n",
            "        Matrix format of the result. By default (format=None) an\n",
            "        appropriate sparse matrix format is returned. This choice is\n",
            "        subject to change.\n",
            "    dtype : dtype, optional\n",
            "        Data type of the matrix.\n",
            "    \n",
            "    See Also\n",
            "    --------\n",
            "    spdiags : construct matrix from diagonals\n",
            "    \n",
            "    Notes\n",
            "    -----\n",
            "    This function differs from `spdiags` in the way it handles\n",
            "    off-diagonals.\n",
            "    \n",
            "    The result from `diags` is the sparse equivalent of::\n",
            "    \n",
            "        np.diag(diagonals[0], offsets[0])\n",
            "        + ...\n",
            "        + np.diag(diagonals[k], offsets[k])\n",
            "    \n",
            "    Repeated diagonal offsets are disallowed.\n",
            "    \n",
            "    .. versionadded:: 0.11\n",
            "    \n",
            "    Examples\n",
            "    --------\n",
            "    >>> from scipy.sparse import diags\n",
            "    >>> diagonals = [[1, 2, 3, 4], [1, 2, 3], [1, 2]]\n",
            "    >>> diags(diagonals, [0, -1, 2]).toarray()\n",
            "    array([[1, 0, 1, 0],\n",
            "           [1, 2, 0, 2],\n",
            "           [0, 2, 3, 0],\n",
            "           [0, 0, 3, 4]])\n",
            "    \n",
            "    Broadcasting of scalars is supported (but shape needs to be\n",
            "    specified):\n",
            "    \n",
            "    >>> diags([1, -2, 1], [-1, 0, 1], shape=(4, 4)).toarray()\n",
            "    array([[-2.,  1.,  0.,  0.],\n",
            "           [ 1., -2.,  1.,  0.],\n",
            "           [ 0.,  1., -2.,  1.],\n",
            "           [ 0.,  0.,  1., -2.]])\n",
            "    \n",
            "    \n",
            "    If only one diagonal is wanted (as in `numpy.diag`), the following\n",
            "    works as well:\n",
            "    \n",
            "    >>> diags([1, 2, 3], 1).toarray()\n",
            "    array([[ 0.,  1.,  0.,  0.],\n",
            "           [ 0.,  0.,  2.,  0.],\n",
            "           [ 0.,  0.,  0.,  3.],\n",
            "           [ 0.,  0.,  0.,  0.]])\n",
            "\n"
          ]
        }
      ],
      "source": [
        "help(sp.diags)"
      ]
    },
    {
      "cell_type": "markdown",
      "metadata": {
        "id": "71Kmcfz3M-ya"
      },
      "source": [
        "Exmaple of Forward Difference matrix"
      ]
    },
    {
      "cell_type": "code",
      "execution_count": 35,
      "metadata": {
        "id": "DJ6b0gTXR63S"
      },
      "outputs": [],
      "source": [
        "#fix a grid\n",
        "a=0\n",
        "b=1\n",
        "N=5\n",
        "h=(b-a)/N\n",
        "D=fd(N)/h"
      ]
    },
    {
      "cell_type": "code",
      "execution_count": 36,
      "metadata": {
        "id": "kecwHOrVSNSK"
      },
      "outputs": [
        {
          "name": "stdout",
          "output_type": "stream",
          "text": [
            "  (0, 0)\t-5.0\n",
            "  (0, 1)\t5.0\n",
            "  (1, 1)\t-5.0\n",
            "  (1, 2)\t5.0\n",
            "  (2, 2)\t-5.0\n",
            "  (2, 3)\t5.0\n",
            "  (3, 3)\t-5.0\n",
            "  (3, 4)\t5.0\n",
            "  (4, 4)\t-5.0\n",
            "  (4, 5)\t5.0\n",
            "  (5, 5)\t-5.0\n"
          ]
        }
      ],
      "source": [
        "print(D)"
      ]
    },
    {
      "cell_type": "code",
      "execution_count": 37,
      "metadata": {
        "id": "lUfU966YSY9U"
      },
      "outputs": [
        {
          "name": "stdout",
          "output_type": "stream",
          "text": [
            "[[-5.  5.  0.  0.  0.  0.]\n",
            " [ 0. -5.  5.  0.  0.  0.]\n",
            " [ 0.  0. -5.  5.  0.  0.]\n",
            " [ 0.  0.  0. -5.  5.  0.]\n",
            " [ 0.  0.  0.  0. -5.  5.]\n",
            " [ 0.  0.  0.  0.  0. -5.]]\n"
          ]
        }
      ],
      "source": [
        "print(D.todense())"
      ]
    },
    {
      "cell_type": "markdown",
      "metadata": {
        "id": "vFJoKMnYMThw"
      },
      "source": [
        "Test: use the FD to evaluate the derivative of $f(x)=\\frac{x^2}{2}$"
      ]
    },
    {
      "cell_type": "code",
      "execution_count": 38,
      "metadata": {},
      "outputs": [],
      "source": [
        "import time"
      ]
    },
    {
      "cell_type": "code",
      "execution_count": 39,
      "metadata": {
        "id": "6Nq2C60jL6PZ"
      },
      "outputs": [],
      "source": [
        "# Fix function f using symbolic tool\n",
        "t = sym.var('t')\n",
        "fsym = 0.5 * t**2\n",
        "# Define the function as an inline function\n",
        "f = sym.lambdify(t, fsym )\n",
        "\n",
        "timesparse=np.zeros(200)\n",
        "\n",
        "for i in range(200):\n",
        "    start=time.time()\n",
        "    # Set up interval and cardinality of the grid\n",
        "    a=0\n",
        "    b=1\n",
        "    N=5*i+1\n",
        "    h=(b-a)/N\n",
        "\n",
        "    # set up grid points\n",
        "    x=np.linspace(a,b,N+1)\n",
        "\n",
        "    # Evaluate FD matrix\n",
        "    D=fd(N)/h\n",
        "\n",
        "    # Values of the derivative at the grid points\n",
        "    uh=D.dot(f(x))[1:N]\n",
        "    end=time.time()\n",
        "    timesparse[i]=end-start\n",
        "\n",
        "# Print results\n",
        "#print(uh)"
      ]
    },
    {
      "cell_type": "markdown",
      "metadata": {
        "id": "yltrCIXzC2vM"
      },
      "source": [
        "Compute max error"
      ]
    },
    {
      "cell_type": "code",
      "execution_count": 40,
      "metadata": {
        "id": "FzC-YdE0C5W8"
      },
      "outputs": [
        {
          "name": "stdout",
          "output_type": "stream",
          "text": [
            "0.0005020080322420961\n"
          ]
        }
      ],
      "source": [
        "fdsym=fsym.diff(t,1)\n",
        "fd=sym.lambdify(t,fdsym)\n",
        "\n",
        "print(max(abs(uh-fd(x[1:N]))))"
      ]
    },
    {
      "cell_type": "markdown",
      "metadata": {
        "id": "8sObv8G9YSof"
      },
      "source": [
        "**Exercise 1.** Find a way to evaluate execution time and compare full vs sparse exectution time in function of the grid size N."
      ]
    },
    {
      "cell_type": "code",
      "execution_count": 41,
      "metadata": {},
      "outputs": [],
      "source": [
        "def fd(a,b,n):\n",
        "    h=(b-a)/n\n",
        "    fd=np.zeros((n+1,n+1))\n",
        "\n",
        "    for i in range(n):\n",
        "        fd[i,i]=-1\n",
        "        fd[i,i+1]=1\n",
        "\n",
        "    return fd/h"
      ]
    },
    {
      "cell_type": "code",
      "execution_count": 42,
      "metadata": {},
      "outputs": [],
      "source": [
        "t = sym.var('t')\n",
        "fsym = 0.5 * t**2\n",
        "f = sym.lambdify(t, fsym)\n",
        "\n",
        "NN = np.zeros(200)\n",
        "times= np.zeros(200)\n",
        "\n",
        "for i in range(200):\n",
        "    start=time.time()\n",
        "    a=0\n",
        "    b=1\n",
        "    N=5*i+1\n",
        "    h=(b-a)/N\n",
        "    NN[i]=N\n",
        "\n",
        "    x=np.linspace(a,b,N+1)\n",
        "\n",
        "    fd_mat = fd(a,b,N)\n",
        "    u_x=fd_mat.dot(f(x))[1:N]\n",
        "    end=time.time()\n",
        "    times[i]=end-start"
      ]
    },
    {
      "cell_type": "code",
      "execution_count": 43,
      "metadata": {},
      "outputs": [
        {
          "data": {
            "text/plain": [
              "Text(0.5, 0, 'grid size')"
            ]
          },
          "execution_count": 43,
          "metadata": {},
          "output_type": "execute_result"
        },
        {
          "data": {
            "image/png": "[encoded data removed]",
            "text/plain": [
              "<Figure size 640x480 with 1 Axes>"
            ]
          },
          "metadata": {},
          "output_type": "display_data"
        }
      ],
      "source": [
        "import matplotlib.pyplot\n",
        "\n",
        "plt.loglog(NN,times, label='full')\n",
        "plt.loglog(NN,timesparse, label='sparse')\n",
        "plt.legend()\n",
        "plt.ylabel('time')\n",
        "plt.xlabel('grid size')"
      ]
    },
    {
      "cell_type": "markdown",
      "metadata": {
        "id": "3EVlhgPcKty_"
      },
      "source": [
        "# Finite Differences for two-points boundary value problems with constant coefficients"
      ]
    },
    {
      "cell_type": "markdown",
      "metadata": {
        "id": "cPX73u-NK2Pq"
      },
      "source": [
        "Poisson problem in 1D:\n",
        "\n",
        "$-u''(x)=f(x) \\quad \\in (a,b)$\n",
        "\n",
        "$u(a)=0, \\quad u(b)=0$\n",
        "\n",
        "We use the second central divided difference to approxima the second derivative.\n",
        "\n",
        "Given $h>0$,\n",
        "\n",
        "$u''(x)≈\\frac{u(x+h)-2u(x)+u(x-h)}{h^2}$"
      ]
    },
    {
      "cell_type": "markdown",
      "metadata": {
        "id": "Uf1tUssmNf7d"
      },
      "source": [
        "Function for second central matrix"
      ]
    },
    {
      "cell_type": "code",
      "execution_count": 44,
      "metadata": {
        "id": "6AkrOqiXNcTJ"
      },
      "outputs": [],
      "source": [
        "def CD2(N):\n",
        "  # Function defining nominator of\n",
        "  # second central FD formula on a\n",
        "  # uniform grid in sparse CSR format\n",
        "  data= [np.ones(N), -2*np.ones(N+1), np.ones(N)]\n",
        "  return sp.diags(data, [-1,0,1], format=\"csr\")"
      ]
    },
    {
      "cell_type": "markdown",
      "metadata": {
        "id": "Dg5laUneRdT5"
      },
      "source": [
        "Example of second central matrix."
      ]
    },
    {
      "cell_type": "code",
      "execution_count": 45,
      "metadata": {
        "id": "KUOiecYxW5ES"
      },
      "outputs": [
        {
          "name": "stdout",
          "output_type": "stream",
          "text": [
            "[[-2.  1.  0.  0.  0.  0.]\n",
            " [ 1. -2.  1.  0.  0.  0.]\n",
            " [ 0.  1. -2.  1.  0.  0.]\n",
            " [ 0.  0.  1. -2.  1.  0.]\n",
            " [ 0.  0.  0.  1. -2.  1.]\n",
            " [ 0.  0.  0.  0.  1. -2.]]\n"
          ]
        }
      ],
      "source": [
        "N=5\n",
        "A=CD2(N)\n",
        "print(A.todense())"
      ]
    },
    {
      "cell_type": "markdown",
      "metadata": {
        "id": "kQFF0QdiNvCt"
      },
      "source": [
        "Test problem:\n",
        "\n",
        "$(a,b)=(0,\\pi)$\n",
        "\n",
        "u(x)=sin(x)"
      ]
    },
    {
      "cell_type": "code",
      "execution_count": 46,
      "metadata": {
        "id": "6o6A_IUkNuMG"
      },
      "outputs": [],
      "source": [
        "# Define right-hand side function\n",
        "t = sym.var('t')\n",
        "fsym = sym.sin(t)\n",
        "f = sym.lambdify(t, fsym )\n",
        "\n",
        "# Define exact solution\n",
        "usym = sym.sin(t)\n",
        "u = sym.lambdify(t, fsym )"
      ]
    },
    {
      "cell_type": "markdown",
      "metadata": {
        "id": "SWzKNz0vOOWW"
      },
      "source": [
        "Define FD problem:\n",
        "\n",
        "for $h=(b-a)/N$\n",
        "\n",
        "$ A U = - h^2 F $\n",
        "\n",
        "with $A$ the nominator of CD formula."
      ]
    },
    {
      "cell_type": "code",
      "execution_count": 47,
      "metadata": {
        "id": "9ZJJbGtGOME1"
      },
      "outputs": [],
      "source": [
        "# Problem domain\n",
        "a=0\n",
        "b=np.pi\n",
        "\n",
        "# Size of grid\n",
        "N=200\n",
        "h=(b-a)/N\n",
        "\n",
        "# Grid\n",
        "x=np.linspace(a,b,N+1)\n",
        "\n",
        "# CD matrix\n",
        "A=CD2(N)\n",
        "\n",
        "# Right-hand side\n",
        "#removing first and last\n",
        "F=-h**2*f(x[1:-1])\n",
        "\n",
        "# Homogeneous Dirichlet boundary conditions\n",
        "A=A[1:-1,1:-1]\n"
      ]
    },
    {
      "cell_type": "markdown",
      "metadata": {
        "id": "3civ7pL9bGQe"
      },
      "source": [
        "Import solver"
      ]
    },
    {
      "cell_type": "code",
      "execution_count": 48,
      "metadata": {
        "id": "BEJ07uM1bJ07"
      },
      "outputs": [],
      "source": [
        "from scipy.sparse.linalg import spsolve"
      ]
    },
    {
      "cell_type": "markdown",
      "metadata": {
        "id": "AKmPecQMO4Kr"
      },
      "source": [
        "Solve problem and print result"
      ]
    },
    {
      "cell_type": "code",
      "execution_count": 49,
      "metadata": {
        "id": "l7B-YKy9O5jF"
      },
      "outputs": [
        {
          "data": {
            "text/plain": [
              "[<matplotlib.lines.Line2D at 0x17fd9c950>]"
            ]
          },
          "execution_count": 49,
          "metadata": {},
          "output_type": "execute_result"
        },
        {
          "data": {
            "image/png": "[encoded data removed]",
            "text/plain": [
              "<Figure size 640x480 with 1 Axes>"
            ]
          },
          "metadata": {},
          "output_type": "display_data"
        }
      ],
      "source": [
        "# Compute solution at internal nodes\n",
        "uh=spsolve(A,F)\n",
        "# plot solution\n",
        "plt.plot(x[1:-1],uh)"
      ]
    },
    {
      "cell_type": "code",
      "execution_count": 50,
      "metadata": {
        "id": "UQ9kqgtrZHom"
      },
      "outputs": [
        {
          "name": "stdout",
          "output_type": "stream",
          "text": [
            "2.0561929504392396e-05\n"
          ]
        }
      ],
      "source": [
        "# print max error\n",
        "\n",
        "print(np.max(np.abs(uh-u(x[1:-1]))))"
      ]
    },
    {
      "cell_type": "markdown",
      "metadata": {
        "id": "EbHL94cyPFWM"
      },
      "source": [
        "**Exercise 2.** test for convergence and plot convergence plot"
      ]
    },
    {
      "cell_type": "code",
      "execution_count": 51,
      "metadata": {},
      "outputs": [],
      "source": [
        "no_expe = 7\n",
        "error = np.zeros(no_expe)\n",
        "nn = np.zeros(no_expe)\n",
        "\n",
        "for i in range(no_expe):\n",
        "    n = 2**(i+1)\n",
        "    nn[i] = n\n",
        "    h = (b - a) / n\n",
        "    x = np.linspace(a, b, n+1)\n",
        "\n",
        "    A = CD2(n)\n",
        "    F = -h**2 * f(x[1:-1])\n",
        "    A = A[1:-1, 1:-1]\n",
        "    uh = spsolve(A, F)\n",
        "    error[i] = np.max(np.abs(uh - u(x[1:-1])))"
      ]
    },
    {
      "cell_type": "code",
      "execution_count": 52,
      "metadata": {},
      "outputs": [
        {
          "data": {
            "text/plain": [
              "<matplotlib.legend.Legend at 0x17fe97b50>"
            ]
          },
          "execution_count": 52,
          "metadata": {},
          "output_type": "execute_result"
        },
        {
          "data": {
            "image/png": "[encoded data removed]",
            "text/plain": [
              "<Figure size 640x480 with 1 Axes>"
            ]
          },
          "metadata": {},
          "output_type": "display_data"
        }
      ],
      "source": [
        "plt.loglog(nn, error, label='error')\n",
        "matplotlib.pyplot.loglog(nn,nn**(-2), label = 'h^2')\n",
        "plt.legend()"
      ]
    },
    {
      "cell_type": "markdown",
      "metadata": {
        "id": "T2QXoNYhP228"
      },
      "source": [
        "**Exercise 3.** Solve the problem with nonhomogeneous Dirichlet conditions:\n",
        "\n",
        "$-\\alpha u''(x)=f(x) \\quad \\in (a,b)$\n",
        "\n",
        "$u(a)=u_a, \\quad u(b)=u_b$"
      ]
    },
    {
      "cell_type": "markdown",
      "metadata": {
        "id": "PWX-C4sbQd-p"
      },
      "source": [
        "For example, you could fix: $(a,b)=(0,\\pi/2)$, solution $u$ as before, $\\alpha=\\frac{1}{2}$"
      ]
    },
    {
      "cell_type": "code",
      "execution_count": 53,
      "metadata": {},
      "outputs": [],
      "source": [
        "t = sym.var('t')\n",
        "fsym = -0.5 * sym.sin(t)\n",
        "f = sym.lambdify(t, fsym)\n",
        "\n",
        "# Define exact solution\n",
        "usym = -0.5 * sym.sin(t)\n",
        "u = sym.lambdify(t, usym)"
      ]
    },
    {
      "cell_type": "code",
      "execution_count": 54,
      "metadata": {},
      "outputs": [
        {
          "name": "stderr",
          "output_type": "stream",
          "text": [
            "/Library/Frameworks/Python.framework/Versions/3.11/lib/python3.11/site-packages/scipy/sparse/_index.py:143: SparseEfficiencyWarning: Changing the sparsity structure of a csr_matrix is expensive. lil_matrix is more efficient.\n",
            "  self._set_arrayXarray(i, j, x)\n"
          ]
        }
      ],
      "source": [
        "alpha = 0.0  #value at the left boundary\n",
        "beta = 1.0   #value at the right boundary\n",
        "# Problem domain\n",
        "a=0\n",
        "b=np.pi\n",
        "\n",
        "# Size of grid\n",
        "N=200\n",
        "h=(b-a)/N\n",
        "\n",
        "# Grid\n",
        "x=np.linspace(a,b,N+1)\n",
        "\n",
        "# CD matrix\n",
        "A=CD2(N)\n",
        "\n",
        "# Right-hand side\n",
        "F=-h**2*f(x[1:-1])\n",
        "\n",
        "# Nonhomogeneous Dirichlet boundary conditions\n",
        "A=A[1:-1,1:-1]\n",
        "\n",
        "A[0,:]=0\n",
        "A[0,0]=1\n",
        "F[0]=alpha\n",
        "\n",
        "A[-1,:]=0\n",
        "A[-1,-1]=1\n",
        "F[-1]=beta"
      ]
    },
    {
      "cell_type": "code",
      "execution_count": 55,
      "metadata": {},
      "outputs": [
        {
          "data": {
            "text/plain": [
              "[<matplotlib.lines.Line2D at 0x17fb24090>]"
            ]
          },
          "execution_count": 55,
          "metadata": {},
          "output_type": "execute_result"
        },
        {
          "data": {
            "image/png": "[encoded data removed]",
            "text/plain": [
              "<Figure size 640x480 with 1 Axes>"
            ]
          },
          "metadata": {},
          "output_type": "display_data"
        }
      ],
      "source": [
        "# Compute solution at internal nodes\n",
        "uh=spsolve(A,F)\n",
        "# plot solution\n",
        "plt.plot(x[1:-1],uh)"
      ]
    },
    {
      "cell_type": "markdown",
      "metadata": {
        "id": "DwxTZDyTQ_cV"
      },
      "source": [
        "**Exercise 4.** Solve the problem with (homogeneous) Neumann conditions:\n",
        "\n",
        "$-\\alpha u''(x)=f(x) \\quad \\in (a,b)$\n",
        "\n",
        "$u(a)=u_a, \\quad u'(b)=0$"
      ]
    },
    {
      "cell_type": "code",
      "execution_count": 56,
      "metadata": {},
      "outputs": [],
      "source": [
        "t = sym.var('t')\n",
        "fsym = -sym.sin(t)\n",
        "f = sym.lambdify(t, fsym)\n",
        "\n",
        "# Define exact solution\n",
        "usym = -sym.sin(t)\n",
        "u = sym.lambdify(t, usym)"
      ]
    },
    {
      "cell_type": "code",
      "execution_count": 57,
      "metadata": {},
      "outputs": [],
      "source": [
        "alpha = 1.0  #value at the left boundary\n",
        "neumann_right = 0.0  #Neumann condition at the right boundary\n",
        "\n",
        "# Problem domain\n",
        "a=0\n",
        "b=np.pi\n",
        "\n",
        "# Size of grid\n",
        "N=200\n",
        "h=(b-a)/N\n",
        "\n",
        "# Grid\n",
        "x=np.linspace(a,b,N+1)\n",
        "\n",
        "# CD matrix\n",
        "A=CD2(N)\n",
        "\n",
        "# Right-hand side\n",
        "F=-h**2*f(x[1:-1])\n",
        "\n",
        "# boundary conditions\n",
        "A=A[1:-1,1:-1]\n",
        "\n",
        "A[0,:]=0\n",
        "A[0,0]=1\n",
        "F[0]=alpha\n",
        "\n",
        "A[-1, -1] = 1\n",
        "A[-1, -2] = -1\n",
        "F[-1]+=neumann_right*h"
      ]
    },
    {
      "cell_type": "code",
      "execution_count": 58,
      "metadata": {},
      "outputs": [
        {
          "data": {
            "text/plain": [
              "[<matplotlib.lines.Line2D at 0x302896350>]"
            ]
          },
          "execution_count": 58,
          "metadata": {},
          "output_type": "execute_result"
        },
        {
          "data": {
            "image/png": "[encoded data removed]",
            "text/plain": [
              "<Figure size 640x480 with 1 Axes>"
            ]
          },
          "metadata": {},
          "output_type": "display_data"
        }
      ],
      "source": [
        "# Compute solution at internal nodes\n",
        "uh=spsolve(A,F)\n",
        "# plot solution\n",
        "plt.plot(x[1:-1],uh)"
      ]
    },
    {
      "cell_type": "markdown",
      "metadata": {
        "id": "aySe91zwRMq3"
      },
      "source": [
        "For example, you could fix: $(a,b)=(0,\\pi/2)$, solution $u$ as before, $\\alpha=1$."
      ]
    },
    {
      "cell_type": "markdown",
      "metadata": {
        "id": "MyrPdJSCSOeG"
      },
      "source": [
        "**Exercise 5.** Solve the reaction-advection-diffusion problem (still with central differences):\n",
        "\n",
        "$-\\alpha u''(x)+\\beta u'(x)+\\gamma u(x)=f(x) \\quad \\in (a,b)$\n",
        "\n",
        "$u(a)=u_a, \\quad u(b)=u_b$\n"
      ]
    },
    {
      "cell_type": "code",
      "execution_count": 59,
      "metadata": {},
      "outputs": [],
      "source": [
        "one = 0.0  #value at the left boundary\n",
        "two = 1.0   #value at the right boundary\n",
        "\n",
        "alpha=1.\n",
        "beta=1.\n",
        "gamma=1.\n",
        "\n",
        "# Problem domain\n",
        "a=0\n",
        "b=np.pi\n",
        "\n",
        "# Size of grid\n",
        "N=200\n",
        "h=(b-a)/N\n",
        "\n",
        "# Grid\n",
        "x=np.linspace(a,b,N+1)\n",
        "\n",
        "# matrix\n",
        "diagonals = [\n",
        "    -2 * alpha / h ** 2 + gamma,  # main diagonal\n",
        "    alpha / h ** 2 + beta / (2 * h),  # superdiagonal\n",
        "    alpha / h ** 2 - beta / (2 * h)  # subdiagonal\n",
        "]\n",
        "A= sp.diags(diagonals, [0, 1, -1], shape=(N+1, N+1), format='csr')\n",
        "\n",
        "# Right-hand side\n",
        "F=-f(x[1:-1])\n",
        "\n",
        "# Nonhomogeneous Dirichlet boundary conditions\n",
        "A=A[1:-1,1:-1]\n",
        "\n",
        "A[0,:]=0\n",
        "A[0,0]=1\n",
        "F[0]=one\n",
        "\n",
        "A[-1,:]=0\n",
        "A[-1,-1]=1\n",
        "F[-1]=two"
      ]
    },
    {
      "cell_type": "code",
      "execution_count": 60,
      "metadata": {},
      "outputs": [
        {
          "data": {
            "text/plain": [
              "[<matplotlib.lines.Line2D at 0x17fa3c3d0>]"
            ]
          },
          "execution_count": 60,
          "metadata": {},
          "output_type": "execute_result"
        },
        {
          "data": {
            "image/png": "[encoded data removed]",
            "text/plain": [
              "<Figure size 640x480 with 1 Axes>"
            ]
          },
          "metadata": {},
          "output_type": "display_data"
        }
      ],
      "source": [
        "# Compute solution at internal nodes\n",
        "uh=spsolve(A,F)\n",
        "# plot solution\n",
        "plt.plot(x[1:-1],uh)"
      ]
    }
  ],
  "metadata": {
    "colab": {
      "authorship_tag": "ABX9TyP7OkSF1a2EOW/sUYvFG+IH",
      "include_colab_link": true,
      "provenance": []
    },
    "kernelspec": {
      "display_name": "Python 3",
      "name": "python3"
    },
    "language_info": {
      "codemirror_mode": {
        "name": "ipython",
        "version": 3
      },
      "file_extension": ".py",
      "mimetype": "text/x-python",
      "name": "python",
      "nbconvert_exporter": "python",
      "pygments_lexer": "ipython3",
      "version": "3.11.5"
    }
  },
  "nbformat": 4,
  "nbformat_minor": 0
}
